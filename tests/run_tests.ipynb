{
 "cells": [
  {
   "cell_type": "code",
   "execution_count": 1,
   "metadata": {},
   "outputs": [],
   "source": [
    "\n",
    "import pandas as pd\n",
    "import os,time\n",
    "import numpy as np\n",
    "from tqdm import tqdm_notebook as tqdm\n",
    "\n",
    "\n",
    "import scipy\n",
    "from scipy import sparse\n",
    "from prettytable import PrettyTable\n",
    "import matplotlib.pyplot as plt\n",
    "from matplotlib.colors import ListedColormap\n",
    "\n",
    "from sklearn import datasets\n",
    "from sklearn.datasets import make_classification\n",
    "from sklearn.datasets import make_blobs\n",
    "from sklearn.datasets import make_gaussian_quantiles\n",
    "from sklearn import svm\n",
    "\n",
    "from sklearn.metrics import confusion_matrix, classification_report\n",
    "from sklearn.model_selection import train_test_split, GridSearchCV, cross_val_score"
   ]
  },
  {
   "cell_type": "markdown",
   "metadata": {},
   "source": [
    "### Utility fuctions for accuracy calculation etc."
   ]
  },
  {
   "cell_type": "code",
   "execution_count": 3,
   "metadata": {},
   "outputs": [],
   "source": [
    "\n",
    "def accuracy_score(predicted, real):\n",
    "    assert(len(predicted) == len(real))\n",
    "    matches=0\n",
    "    for index in range(0,len(predicted)):\n",
    "        if(real[index] == predicted[index]):\n",
    "            matches += 1\n",
    "    return matches/len(predicted)\n",
    "\n",
    "def timing(f):\n",
    "    def timer(*args, **kwargs):\n",
    "        start = time.time()\n",
    "        ret = f(*args, **kwargs)\n",
    "        finish = time.time()\n",
    "        print('%s took %0.3f seconds' % (f.__name__, (finish-start)))\n",
    "        return ret\n",
    "    return timer\n",
    "\n",
    "    "
   ]
  },
  {
   "cell_type": "markdown",
   "metadata": {},
   "source": [
    "### Simultaneous Multiclass SVM Algorithm"
   ]
  },
  {
   "cell_type": "code",
   "execution_count": 4,
   "metadata": {},
   "outputs": [],
   "source": [
    "class SMCSVM:\n",
    "    def __init__(self,C=10,kernel='rbf',degree=1,sigma=1.0):\n",
    "        self.kernel = kernel\n",
    "        self.C=C\n",
    "        self.degree = degree\n",
    "        self.sigma=sigma\n",
    "        self.alphas2=None\n",
    "        self.fullXmatrix=None\n",
    "        self.IntermXmatrix=None\n",
    "        self.train_X_data = None\n",
    "        self.num_classes = None\n",
    "        \n",
    "    def fit(self, X_data, Y_label):\n",
    "        #self.kernel = kernel\n",
    "        #self.C= C\n",
    "        #self.degree = degree\n",
    "        #self.sigma= sigma \n",
    "        self.train_X_data = X_data\n",
    "        X = X_data\n",
    "        trainLabelVector = Y_label\n",
    "        num_classes = len(np.unique(Y_label))\n",
    "        self.num_classes = num_classes\n",
    "        \n",
    "        fullXmatrix = np.zeros(((X_data.shape[0]*(num_classes-1)),num_classes*((X_data.shape[1])+1)))\n",
    "\n",
    "        count5 = 0\n",
    "        \n",
    "        print('\\n Calculating fullXmatrix')\n",
    "        for i in tqdm(range(0,X.shape[0])):\n",
    "        \n",
    "            for p in range(0,num_classes):\n",
    "                if(trainLabelVector[i]!=p):   \n",
    "                    for j in range(0,num_classes):\n",
    "                        \n",
    "                        if(j==trainLabelVector[i]):\n",
    "                            fullXmatrix[count5,(j*(X_data.shape[1]+1)):((j+1)*(X_data.shape[1]+1))-1] = X[i,:]\n",
    "                            fullXmatrix[count5,((j+1)*(X_data.shape[1]+1))-1] = 1.0\n",
    "                        elif(j==p):\n",
    "                            fullXmatrix[count5,(j*(X_data.shape[1]+1)):((j+1)*(X_data.shape[1]+1))-1] = -1*X[i,:]\n",
    "                            fullXmatrix[count5,((j+1)*(X_data.shape[1]+1))-1] = -1.0\n",
    "                            \n",
    "                    count5 += 1\n",
    "                        \n",
    "                    \n",
    "        m = fullXmatrix.shape[0]\n",
    "        M1 = sparse.csr_matrix(fullXmatrix) \n",
    "        IntermXmatrix = np.zeros(((X_data.shape[0]*(num_classes-1)),num_classes))\n",
    "        if(kernel=='polynomial'):   \n",
    "            H = sparse.csr_matrix.dot(M1,M1.T) \n",
    "            H = (1+H.todense())**degree   \n",
    "        elif(kernel=='linear'):\n",
    "            H = sparse.csr_matrix.dot(M1,M1.T)\n",
    "        else:\n",
    "            H,IntermXmatrix = self.getKernelizedProduct(X_data,Y_label,kernel,sigma)        \n",
    "\n",
    "        from cvxopt import matrix as cvxopt_matrix\n",
    "        from cvxopt import solvers as cvxopt_solvers\n",
    "        if(kernel=='linear'):\n",
    "            P = cvxopt_matrix(H.todense())\n",
    "        else:\n",
    "            P = cvxopt_matrix(H)\n",
    "        q = cvxopt_matrix(-1*np.ones((m, 1)))\n",
    "        G = cvxopt_matrix(np.vstack((np.eye(m)*-1,np.eye(m))))\n",
    "        h = cvxopt_matrix(np.hstack((np.zeros(m), np.ones(m) * C)))\n",
    "        opts = {'maxiters' : 30,'solver':'mosek'}\n",
    "        sol = cvxopt_solvers.qp(P, q, G, h ,options = opts)\n",
    "        alphas2 = np.array(sol['x']) \n",
    "        self.alphas2=alphas2\n",
    "        self.fullXmatrix=fullXmatrix\n",
    "        self.IntermXmatrix=IntermXmatrix\n",
    "   \n",
    "    def predict(self,val_X_data):\n",
    "        num_classes = self.num_classes\n",
    "        train_X_data = self.train_X_data\n",
    "        kernel = self.kernel\n",
    "        degree = self.degree\n",
    "        sigma = self.sigma\n",
    "        alphas2=self.alphas2\n",
    "        fullXmatrix=self.fullXmatrix\n",
    "        IntermXmatrix=self.IntermXmatrix\n",
    "\n",
    "        predictedLabelVector = []\n",
    "        if(kernel == 'linear'):\n",
    "            w = fullXmatrix.T@alphas2\n",
    "            wForEachLabel = {}\n",
    "            for i in range(0,num_classes):\n",
    "                wForEachLabel[i] = np.array_split(w,num_classes)[i]\n",
    "            print('\\n Calculating prediction values')\n",
    "            for i in tqdm(range(0,val_X_data.shape[0])):\n",
    "                scoresForEachLabel = []\n",
    "                for j in range(0,len(wForEachLabel)):\n",
    "                    score = (wForEachLabel[j].T@np.append(val_X_data[i,:],1.0).reshape(-1,1))\n",
    "                    scoresForEachLabel.append(score)\n",
    "                maxScoreLabel = np.argmax(scoresForEachLabel)\n",
    "                predictedLabelVector.append(maxScoreLabel)\n",
    "        elif(kernel == 'polynomial'):\n",
    "            print('\\n Calculating prediction values')\n",
    "            for i in tqdm(range(0,val_X_data.shape[0])):\n",
    "                tempMatrix1 = np.zeros((num_classes*(val_X_data.shape[1]+1),num_classes))\n",
    "                for j in range(0,num_classes):\n",
    "                    tempMatrix1[j*(val_X_data.shape[1]+1):(j+1)*(val_X_data.shape[1]+1),j] = np.append(val_X_data[i,:],1.0)\n",
    "                scoresForEachLabel = (alphas2.T)@((1+(fullXmatrix@tempMatrix1))**degree)\n",
    "                maxScoreLabel = np.argmax(scoresForEachLabel)\n",
    "                predictedLabelVector.append(maxScoreLabel)\n",
    "        elif(kernel == 'rbf'):\n",
    "            print('\\n Calculating prediction values')\n",
    "            for i in tqdm(range(0,val_X_data.shape[0])):\n",
    "                scoresForEachLabel = (alphas2.T)@((1+(self.getKernelizedProductforPrediction(train_X_data,val_X_data,IntermXmatrix,i,num_classes,kernel,sigma)))**degree)\n",
    "                maxScoreLabel = np.argmax(scoresForEachLabel)\n",
    "                predictedLabelVector.append(maxScoreLabel)\n",
    "        return predictedLabelVector\n",
    "    \n",
    "    def getKernelizedProductforPrediction(self,X_data,val_X_data,IntermXmatrix,currentValIndex,num_classes,kernel,sigma):\n",
    "        X = X_data\n",
    "        m = (X_data.shape[0]*(num_classes-1))\n",
    "        H = np.zeros((m,num_classes))    \n",
    "        matrix2 = (currentValIndex+1)*np.eye(num_classes)\n",
    "\n",
    "        if(kernel == 'rbf'): \n",
    "            for i in (range(0,m)):\n",
    "                for j in range(0,num_classes):\n",
    "                    count1 = 0\n",
    "                    for k in range(0,num_classes):\n",
    "                        if(count1==2):\n",
    "                            break\n",
    "                        else:\n",
    "                            temp3 = int(IntermXmatrix[i,k])\n",
    "                            temp4 = int(matrix2[k,j])\n",
    "                            if(temp3>0):\n",
    "                                count1+=1\n",
    "                                if(temp4>0):                             \n",
    "                                    H[i,j] += np.exp(-1*(np.linalg.norm(X[temp3-1,:]-val_X_data[temp4-1,:]))/(2*sigma**2))                        \n",
    "                            elif(temp3<0):\n",
    "                                count1+=1\n",
    "                                if(temp4>0):\n",
    "                                    H[i,j] += np.exp(-1*(np.linalg.norm(np.append(val_X_data[temp4-1,:],1.0)-np.append(-1*X[-temp3-1,:],-1.0)))/(2*sigma**2))                    \n",
    "        return H      \n",
    "    \n",
    "    def getKernelizedProduct(self,X_data,Y_label,kernel,sigma):\n",
    "        X = X_data\n",
    "        trainLabelVector = Y_label\n",
    "        num_classes = len(np.unique(Y_label))\n",
    "        IntermXmatrix = np.zeros(((X_data.shape[0]*(num_classes-1)),num_classes))\n",
    "        count6 = 0\n",
    "        print('\\n Calculating Kernalized Product')\n",
    "        for i in tqdm(range(0,X.shape[0])):\n",
    "            for p in range(0,num_classes):\n",
    "                if(trainLabelVector[i]!=p):   \n",
    "                    for j in range(0,num_classes):\n",
    "                        if(j==trainLabelVector[i]):\n",
    "                            IntermXmatrix[count6,j] = i+1\n",
    "                        elif(j==p):\n",
    "                            IntermXmatrix[count6,j] = -(i+1)\n",
    "                    count6 += 1\n",
    "\n",
    "        matrix2 = IntermXmatrix.T\n",
    "        M2 = scipy.sparse.coo_matrix(IntermXmatrix)\n",
    "        M3 = scipy.sparse.coo_matrix(IntermXmatrix.T)\n",
    "        m = (X_data.shape[0]*(num_classes-1))\n",
    "        H = np.zeros((m,m)) \n",
    "\n",
    "        if(kernel == 'rbf'):\n",
    "            print('\\n Calculating Kernalized Product')\n",
    "            for i in tqdm(range(0,m)):\n",
    "                for j in range(0,i+1):\n",
    "                    count1 = 0\n",
    "                    #count2 = 0\n",
    "                    for k in range(0,IntermXmatrix.shape[1]):\n",
    "                        if(count1==2):\n",
    "                            break\n",
    "                        else:\n",
    "                            temp3 = int(IntermXmatrix[i,k])\n",
    "                            temp4 = int(matrix2[k,j])\n",
    "                            #print(temp3,temp4)\n",
    "                            if(temp3>0):\n",
    "                                count1+=1\n",
    "                                if(temp4>0):                             \n",
    "                                    H[i,j] += np.exp(-1*(np.linalg.norm(X[temp3-1,:]-X[temp4-1,:]))/(2*sigma**2))\n",
    "                                elif(temp4<0):\n",
    "                                    H[i,j] += np.exp(-1*(np.linalg.norm(np.append(X[temp3-1,:],1.0)-np.append(-1*X[-temp4-1,:],-1.0)))/(2*sigma**2))\n",
    "                            elif(temp3<0):\n",
    "                                count1+=1\n",
    "                                if(temp4>0):\n",
    "                                    H[i,j] += np.exp(-1*(np.linalg.norm(np.append(X[temp4-1,:],1.0)-np.append(-1*X[-temp3-1,:],-1.0)))/(2*sigma**2))                    \n",
    "                                elif(temp4<0):\n",
    "                                    H[i,j] += np.exp(-1*(np.linalg.norm(-1*X[-temp3-1,:]+X[-temp4-1,:]))/(2*sigma**2))\n",
    "        print('\\n Calculating Kernalized Product')\n",
    "        \n",
    "        for i in tqdm(range(0,m)):\n",
    "            for j in range(0,i+1):\n",
    "                if(j>i):\n",
    "                    H[i,j]=H[j,i]                 \n",
    "\n",
    "        return H,IntermXmatrix"
   ]
  },
  {
   "cell_type": "markdown",
   "metadata": {},
   "source": [
    "### Plotting Function"
   ]
  },
  {
   "cell_type": "code",
   "execution_count": 5,
   "metadata": {},
   "outputs": [],
   "source": [
    "def plot_decision_regions(classifier,train_X_data,train_Y_data,resolution=1):\n",
    "    \n",
    "   # setup marker generator and color map\n",
    "   markers = ('s', 'x', 'o', '^', 'v')\n",
    "   colors = ('red', 'blue', 'lightgreen', 'gray', 'cyan')\n",
    "   X = train_X_data\n",
    "   y = train_Y_data\n",
    "   cmap = ListedColormap(colors[:len(np.unique(y))])\n",
    "    \n",
    "   # plot the decision surface\n",
    "   x1_min, x1_max = X[:, 0].min() - 1 , X[:, 0].max() + 1\n",
    "   x2_min, x2_max = X[:, 1].min() - 1, X[:, 1].max() + 1\n",
    "   xx1, xx2 = np.meshgrid(np.arange(x1_min, x1_max, resolution),\n",
    "   np.arange(x2_min, x2_max, resolution))\n",
    "   Z = classifier.predict(np.array([xx1.ravel(), xx2.ravel()]).T)\n",
    "   Z = np.array(Z) \n",
    "   Z = Z.reshape(xx1.shape)\n",
    "   plt.contourf(xx1, xx2, Z, alpha=0.1, cmap=cmap)\n",
    "   plt.xlim(xx1.min(), xx1.max())\n",
    "   plt.ylim(xx2.min(), xx2.max())\n",
    "   \n",
    "\n",
    "   # plot all samples\n",
    "   #X_test, y_test = X[test_idx, :], y[test_idx]\n",
    "   for idx, cl in enumerate(np.unique(y)):\n",
    "      plt.scatter(x=X[y == cl, 0], y=X[y == cl, 1],\n",
    "               alpha=0.8, c=cmap(idx),\n",
    "               marker=markers[idx], label=cl)\n",
    "   plt.legend(loc='upper left')\n",
    "   plt.show()"
   ]
  },
  {
   "cell_type": "markdown",
   "metadata": {},
   "source": [
    "### Cross validation with Bias variance Estimation Plot"
   ]
  },
  {
   "cell_type": "code",
   "execution_count": 6,
   "metadata": {},
   "outputs": [],
   "source": [
    "@timing\n",
    "def performCrossValidation(X1,Y1,num_folds,classifier):\n",
    "    print('-------------Performing %d-fold cross validation------------------ '%(num_folds))\n",
    "    fullXmatrix1 = X1\n",
    "    fullYvector1 = Y1\n",
    "    from sklearn.model_selection import KFold\n",
    "    kf = KFold(n_splits=num_folds)\n",
    "    kf.get_n_splits(fullXmatrix1)\n",
    "    \n",
    "    ValErrorForEachFold = []\n",
    "    ValAccuForEachFold=[]\n",
    "    fold = 0\n",
    "    for train_index, test_index in kf.split(fullXmatrix1):\n",
    "        \n",
    "        fold += 1\n",
    "        \n",
    "        X_train, X_test = fullXmatrix1[train_index], fullXmatrix1[test_index]\n",
    "        y_train, y_test = fullYvector1[train_index], fullYvector1[test_index]\n",
    "        \n",
    "        classifier.fit(X_train, y_train)\n",
    "        predictedLabels = classifier.predict(X_test)\n",
    "        \n",
    "        accuracy = accuracy_score(predictedLabels,y_test)\n",
    "        error = 1- accuracy\n",
    "        ValErrorForEachFold.append(error)\n",
    "        ValAccuForEachFold.append(accuracy)\n",
    "        \n",
    "    mean_accuracy = np.mean(ValAccuForEachFold)\n",
    "    mean_error = np.mean(ValErrorForEachFold)\n",
    "    \n",
    "    return mean_error, mean_accuracy"
   ]
  },
  {
   "cell_type": "code",
   "execution_count": 7,
   "metadata": {},
   "outputs": [],
   "source": [
    "pt = PrettyTable()\n",
    "columns = ['dataset', '# points', '# attributess', '#classes', '1-v-r', '1-v-1', 'SMCSVM']\n",
    "pt.field_names = columns"
   ]
  },
  {
   "cell_type": "markdown",
   "metadata": {},
   "source": [
    "### Testing the Algorithm on Iris Dataset"
   ]
  },
  {
   "cell_type": "code",
   "execution_count": 8,
   "metadata": {},
   "outputs": [],
   "source": [
    "results = []\n",
    "dataset = datasets.load_iris()\n",
    "results.append('IRIS')\n",
    "results.append(dataset.data.shape[0])\n",
    "results.append(dataset.data.shape[1])\n",
    "results.append(len(dataset.target_names))\n",
    "X_train, X_test, y_train, y_test = train_test_split(dataset.data, dataset.target, test_size = 0.2, random_state = 42)"
   ]
  },
  {
   "cell_type": "code",
   "execution_count": 9,
   "metadata": {},
   "outputs": [],
   "source": [
    "kernel = 'rbf'\n",
    "degree = 1\n",
    "sigma = 0.8\n",
    "C = 10"
   ]
  },
  {
   "cell_type": "code",
   "execution_count": 10,
   "metadata": {},
   "outputs": [
    {
     "name": "stdout",
     "output_type": "stream",
     "text": [
      "\n",
      " Calculating fullXmatrix\n"
     ]
    },
    {
     "data": {
      "application/vnd.jupyter.widget-view+json": {
       "model_id": "701f46584ae0449bb05af8d602d00511",
       "version_major": 2,
       "version_minor": 0
      },
      "text/plain": [
       "HBox(children=(IntProgress(value=0, max=120), HTML(value='')))"
      ]
     },
     "metadata": {},
     "output_type": "display_data"
    },
    {
     "name": "stdout",
     "output_type": "stream",
     "text": [
      "\n",
      "\n",
      " Calculating Kernalized Product\n"
     ]
    },
    {
     "data": {
      "application/vnd.jupyter.widget-view+json": {
       "model_id": "61574a5b58b54635afddaaecf2357180",
       "version_major": 2,
       "version_minor": 0
      },
      "text/plain": [
       "HBox(children=(IntProgress(value=0, max=120), HTML(value='')))"
      ]
     },
     "metadata": {},
     "output_type": "display_data"
    },
    {
     "name": "stdout",
     "output_type": "stream",
     "text": [
      "\n",
      "\n",
      " Calculating Kernalized Product\n"
     ]
    },
    {
     "data": {
      "application/vnd.jupyter.widget-view+json": {
       "model_id": "76ffafba01324362bf7d6ca1a5bbc754",
       "version_major": 2,
       "version_minor": 0
      },
      "text/plain": [
       "HBox(children=(IntProgress(value=0, max=240), HTML(value='')))"
      ]
     },
     "metadata": {},
     "output_type": "display_data"
    },
    {
     "name": "stdout",
     "output_type": "stream",
     "text": [
      "\n",
      "\n",
      " Calculating Kernalized Product\n"
     ]
    },
    {
     "data": {
      "application/vnd.jupyter.widget-view+json": {
       "model_id": "53fea2735cdb44d4bd95e3f048e18792",
       "version_major": 2,
       "version_minor": 0
      },
      "text/plain": [
       "HBox(children=(IntProgress(value=0, max=240), HTML(value='')))"
      ]
     },
     "metadata": {},
     "output_type": "display_data"
    },
    {
     "name": "stdout",
     "output_type": "stream",
     "text": [
      "\n",
      "     pcost       dcost       gap    pres   dres\n",
      " 0:  1.8383e+02 -3.3531e+03  7e+03  2e-01  3e-15\n",
      " 1:  1.3197e+02 -2.7660e+02  5e+02  4e-03  3e-15\n",
      " 2:  1.7634e+01 -3.6319e+01  5e+01  2e-16  3e-15\n",
      " 3: -3.7038e-01 -7.8933e+00  8e+00  2e-16  1e-15\n",
      " 4: -2.0448e+00 -3.2767e+00  1e+00  2e-16  4e-16\n",
      " 5: -2.2518e+00 -2.5468e+00  3e-01  2e-16  2e-16\n",
      " 6: -2.3103e+00 -2.4006e+00  9e-02  2e-16  2e-16\n",
      " 7: -2.3333e+00 -2.3588e+00  3e-02  2e-16  2e-16\n",
      " 8: -2.3406e+00 -2.3452e+00  5e-03  2e-16  2e-16\n",
      " 9: -2.3423e+00 -2.3427e+00  3e-04  2e-16  2e-16\n",
      "10: -2.3424e+00 -2.3425e+00  3e-05  2e-16  2e-16\n",
      "11: -2.3425e+00 -2.3425e+00  7e-07  2e-16  2e-16\n",
      "Optimal solution found.\n",
      "\n",
      " Calculating prediction values\n"
     ]
    },
    {
     "data": {
      "application/vnd.jupyter.widget-view+json": {
       "model_id": "a87ea07b2b934be888b75d395c13a0bc",
       "version_major": 2,
       "version_minor": 0
      },
      "text/plain": [
       "HBox(children=(IntProgress(value=0, max=30), HTML(value='')))"
      ]
     },
     "metadata": {},
     "output_type": "display_data"
    },
    {
     "name": "stdout",
     "output_type": "stream",
     "text": [
      "\n"
     ]
    },
    {
     "data": {
      "text/html": [
       "<div>\n",
       "<style scoped>\n",
       "    .dataframe tbody tr th:only-of-type {\n",
       "        vertical-align: middle;\n",
       "    }\n",
       "\n",
       "    .dataframe tbody tr th {\n",
       "        vertical-align: top;\n",
       "    }\n",
       "\n",
       "    .dataframe thead th {\n",
       "        text-align: right;\n",
       "    }\n",
       "</style>\n",
       "<table border=\"1\" class=\"dataframe\">\n",
       "  <thead>\n",
       "    <tr style=\"text-align: right;\">\n",
       "      <th>col_0</th>\n",
       "      <th>0</th>\n",
       "      <th>1</th>\n",
       "      <th>2</th>\n",
       "    </tr>\n",
       "    <tr>\n",
       "      <th>row_0</th>\n",
       "      <th></th>\n",
       "      <th></th>\n",
       "      <th></th>\n",
       "    </tr>\n",
       "  </thead>\n",
       "  <tbody>\n",
       "    <tr>\n",
       "      <th>0</th>\n",
       "      <td>10</td>\n",
       "      <td>0</td>\n",
       "      <td>0</td>\n",
       "    </tr>\n",
       "    <tr>\n",
       "      <th>1</th>\n",
       "      <td>0</td>\n",
       "      <td>9</td>\n",
       "      <td>0</td>\n",
       "    </tr>\n",
       "    <tr>\n",
       "      <th>2</th>\n",
       "      <td>0</td>\n",
       "      <td>0</td>\n",
       "      <td>11</td>\n",
       "    </tr>\n",
       "  </tbody>\n",
       "</table>\n",
       "</div>"
      ],
      "text/plain": [
       "col_0   0  1   2\n",
       "row_0           \n",
       "0      10  0   0\n",
       "1       0  9   0\n",
       "2       0  0  11"
      ]
     },
     "execution_count": 10,
     "metadata": {},
     "output_type": "execute_result"
    }
   ],
   "source": [
    "clf = SMCSVM(C,kernel,degree,sigma)\n",
    "clf.fit(X_train,y_train)\n",
    "predictedLabels = clf.predict(X_test)\n",
    "conMatrix = pd.crosstab(np.array(predictedLabels).ravel(),y_test.reshape(-1,1).ravel())\n",
    "conMatrix"
   ]
  },
  {
   "cell_type": "code",
   "execution_count": 11,
   "metadata": {},
   "outputs": [
    {
     "name": "stdout",
     "output_type": "stream",
     "text": [
      "-------------Performing 4-fold cross validation------------------ \n",
      "\n",
      " Calculating fullXmatrix\n"
     ]
    },
    {
     "data": {
      "application/vnd.jupyter.widget-view+json": {
       "model_id": "a3edc10bd35447629a77980b1a49ebbe",
       "version_major": 2,
       "version_minor": 0
      },
      "text/plain": [
       "HBox(children=(IntProgress(value=0, max=112), HTML(value='')))"
      ]
     },
     "metadata": {},
     "output_type": "display_data"
    },
    {
     "name": "stdout",
     "output_type": "stream",
     "text": [
      "\n",
      "\n",
      " Calculating Kernalized Product\n"
     ]
    },
    {
     "data": {
      "application/vnd.jupyter.widget-view+json": {
       "model_id": "39f2fa50b2d044a78da7e0b3c03434f0",
       "version_major": 2,
       "version_minor": 0
      },
      "text/plain": [
       "HBox(children=(IntProgress(value=0, max=112), HTML(value='')))"
      ]
     },
     "metadata": {},
     "output_type": "display_data"
    },
    {
     "name": "stdout",
     "output_type": "stream",
     "text": [
      "\n",
      "\n",
      " Calculating Kernalized Product\n"
     ]
    },
    {
     "data": {
      "application/vnd.jupyter.widget-view+json": {
       "model_id": "fe7366526b2e46acb9711b39dffd88ea",
       "version_major": 2,
       "version_minor": 0
      },
      "text/plain": [
       "HBox(children=(IntProgress(value=0, max=224), HTML(value='')))"
      ]
     },
     "metadata": {},
     "output_type": "display_data"
    },
    {
     "name": "stdout",
     "output_type": "stream",
     "text": [
      "\n",
      "\n",
      " Calculating Kernalized Product\n"
     ]
    },
    {
     "data": {
      "application/vnd.jupyter.widget-view+json": {
       "model_id": "e1094bafe81647caa78ba78c6eaec2dc",
       "version_major": 2,
       "version_minor": 0
      },
      "text/plain": [
       "HBox(children=(IntProgress(value=0, max=224), HTML(value='')))"
      ]
     },
     "metadata": {},
     "output_type": "display_data"
    },
    {
     "name": "stdout",
     "output_type": "stream",
     "text": [
      "\n",
      "     pcost       dcost       gap    pres   dres\n",
      " 0:  1.7725e+02 -3.2150e+03  7e+03  2e-01  3e-15\n",
      " 1:  1.2296e+02 -2.6228e+02  4e+02  4e-03  3e-15\n",
      " 2:  1.6401e+01 -3.4242e+01  5e+01  2e-16  3e-15\n",
      " 3: -4.5145e-01 -7.5074e+00  7e+00  2e-16  1e-15\n",
      " 4: -2.0053e+00 -3.1713e+00  1e+00  2e-16  4e-16\n",
      " 5: -2.1832e+00 -2.4797e+00  3e-01  2e-16  3e-16\n",
      " 6: -2.2328e+00 -2.3360e+00  1e-01  2e-16  3e-16\n",
      " 7: -2.2567e+00 -2.2872e+00  3e-02  2e-16  2e-16\n",
      " 8: -2.2645e+00 -2.2713e+00  7e-03  2e-16  3e-16\n",
      " 9: -2.2667e+00 -2.2672e+00  6e-04  2e-16  3e-16\n",
      "10: -2.2669e+00 -2.2669e+00  2e-05  2e-16  2e-16\n",
      "11: -2.2669e+00 -2.2669e+00  7e-07  2e-16  2e-16\n",
      "Optimal solution found.\n",
      "\n",
      " Calculating prediction values\n"
     ]
    },
    {
     "data": {
      "application/vnd.jupyter.widget-view+json": {
       "model_id": "0c81a2a60df74e36b52be03471cd20f8",
       "version_major": 2,
       "version_minor": 0
      },
      "text/plain": [
       "HBox(children=(IntProgress(value=0, max=38), HTML(value='')))"
      ]
     },
     "metadata": {},
     "output_type": "display_data"
    },
    {
     "name": "stdout",
     "output_type": "stream",
     "text": [
      "\n",
      "\n",
      " Calculating fullXmatrix\n"
     ]
    },
    {
     "data": {
      "application/vnd.jupyter.widget-view+json": {
       "model_id": "2ace8b650ae0447c94bfa52836fc10f5",
       "version_major": 2,
       "version_minor": 0
      },
      "text/plain": [
       "HBox(children=(IntProgress(value=0, max=112), HTML(value='')))"
      ]
     },
     "metadata": {},
     "output_type": "display_data"
    },
    {
     "name": "stdout",
     "output_type": "stream",
     "text": [
      "\n",
      "\n",
      " Calculating Kernalized Product\n"
     ]
    },
    {
     "data": {
      "application/vnd.jupyter.widget-view+json": {
       "model_id": "41b67b767c874a0b94335423c04779ec",
       "version_major": 2,
       "version_minor": 0
      },
      "text/plain": [
       "HBox(children=(IntProgress(value=0, max=112), HTML(value='')))"
      ]
     },
     "metadata": {},
     "output_type": "display_data"
    },
    {
     "name": "stdout",
     "output_type": "stream",
     "text": [
      "\n",
      "\n",
      " Calculating Kernalized Product\n"
     ]
    },
    {
     "data": {
      "application/vnd.jupyter.widget-view+json": {
       "model_id": "aae95557673249f083fd463468be4b2e",
       "version_major": 2,
       "version_minor": 0
      },
      "text/plain": [
       "HBox(children=(IntProgress(value=0, max=224), HTML(value='')))"
      ]
     },
     "metadata": {},
     "output_type": "display_data"
    },
    {
     "name": "stdout",
     "output_type": "stream",
     "text": [
      "\n",
      "\n",
      " Calculating Kernalized Product\n"
     ]
    },
    {
     "data": {
      "application/vnd.jupyter.widget-view+json": {
       "model_id": "e5915dff69b54546b1ba210d170a46ed",
       "version_major": 2,
       "version_minor": 0
      },
      "text/plain": [
       "HBox(children=(IntProgress(value=0, max=224), HTML(value='')))"
      ]
     },
     "metadata": {},
     "output_type": "display_data"
    },
    {
     "name": "stdout",
     "output_type": "stream",
     "text": [
      "\n",
      "     pcost       dcost       gap    pres   dres\n",
      " 0:  1.7911e+02 -3.1474e+03  6e+03  2e-01  3e-15\n",
      " 1:  1.2525e+02 -2.6303e+02  4e+02  4e-03  3e-15\n",
      " 2:  1.6615e+01 -3.4654e+01  5e+01  2e-16  3e-15\n",
      " 3: -4.4103e-01 -7.5792e+00  7e+00  2e-16  1e-15\n",
      " 4: -2.0144e+00 -3.2042e+00  1e+00  2e-16  5e-16\n",
      " 5: -2.2105e+00 -2.4946e+00  3e-01  2e-16  3e-16\n",
      " 6: -2.2600e+00 -2.3590e+00  1e-01  2e-16  2e-16\n",
      " 7: -2.2831e+00 -2.3139e+00  3e-02  2e-16  3e-16\n",
      " 8: -2.2920e+00 -2.2971e+00  5e-03  2e-16  3e-16\n",
      " 9: -2.2938e+00 -2.2941e+00  3e-04  2e-16  3e-16\n",
      "10: -2.2939e+00 -2.2939e+00  1e-05  2e-16  3e-16\n",
      "11: -2.2939e+00 -2.2939e+00  4e-07  2e-16  3e-16\n",
      "Optimal solution found.\n",
      "\n",
      " Calculating prediction values\n"
     ]
    },
    {
     "data": {
      "application/vnd.jupyter.widget-view+json": {
       "model_id": "b1ef2c30b1434b69a8935362c03375a1",
       "version_major": 2,
       "version_minor": 0
      },
      "text/plain": [
       "HBox(children=(IntProgress(value=0, max=38), HTML(value='')))"
      ]
     },
     "metadata": {},
     "output_type": "display_data"
    },
    {
     "name": "stdout",
     "output_type": "stream",
     "text": [
      "\n",
      "\n",
      " Calculating fullXmatrix\n"
     ]
    },
    {
     "data": {
      "application/vnd.jupyter.widget-view+json": {
       "model_id": "02eae21972b249b7a1a499921151cf72",
       "version_major": 2,
       "version_minor": 0
      },
      "text/plain": [
       "HBox(children=(IntProgress(value=0, max=113), HTML(value='')))"
      ]
     },
     "metadata": {},
     "output_type": "display_data"
    },
    {
     "name": "stdout",
     "output_type": "stream",
     "text": [
      "\n",
      "\n",
      " Calculating Kernalized Product\n"
     ]
    },
    {
     "data": {
      "application/vnd.jupyter.widget-view+json": {
       "model_id": "5889dcf65304404b8f8c892050833c45",
       "version_major": 2,
       "version_minor": 0
      },
      "text/plain": [
       "HBox(children=(IntProgress(value=0, max=113), HTML(value='')))"
      ]
     },
     "metadata": {},
     "output_type": "display_data"
    },
    {
     "name": "stdout",
     "output_type": "stream",
     "text": [
      "\n",
      "\n",
      " Calculating Kernalized Product\n"
     ]
    },
    {
     "data": {
      "application/vnd.jupyter.widget-view+json": {
       "model_id": "d9efac0b0f31477f980b288fdf22c3ea",
       "version_major": 2,
       "version_minor": 0
      },
      "text/plain": [
       "HBox(children=(IntProgress(value=0, max=226), HTML(value='')))"
      ]
     },
     "metadata": {},
     "output_type": "display_data"
    },
    {
     "name": "stdout",
     "output_type": "stream",
     "text": [
      "\n",
      "\n",
      " Calculating Kernalized Product\n"
     ]
    },
    {
     "data": {
      "application/vnd.jupyter.widget-view+json": {
       "model_id": "d48b522c74d3457ea72adeaece229c46",
       "version_major": 2,
       "version_minor": 0
      },
      "text/plain": [
       "HBox(children=(IntProgress(value=0, max=226), HTML(value='')))"
      ]
     },
     "metadata": {},
     "output_type": "display_data"
    },
    {
     "name": "stdout",
     "output_type": "stream",
     "text": [
      "\n",
      "     pcost       dcost       gap    pres   dres\n",
      " 0:  1.7954e+02 -3.2067e+03  6e+03  2e-01  3e-15\n",
      " 1:  1.2563e+02 -2.5439e+02  4e+02  4e-03  3e-15\n",
      " 2:  1.6174e+01 -3.4044e+01  5e+01  2e-16  3e-15\n",
      " 3: -4.9193e-01 -7.4777e+00  7e+00  2e-16  1e-15\n",
      " 4: -2.0415e+00 -3.0341e+00  1e+00  2e-16  5e-16\n",
      " 5: -2.2102e+00 -2.4830e+00  3e-01  1e-16  3e-16\n",
      " 6: -2.2585e+00 -2.3456e+00  9e-02  2e-16  3e-16\n",
      " 7: -2.2799e+00 -2.3043e+00  2e-02  2e-16  3e-16\n",
      " 8: -2.2855e+00 -2.2913e+00  6e-03  2e-16  3e-16\n",
      " 9: -2.2872e+00 -2.2879e+00  7e-04  2e-16  3e-16\n",
      "10: -2.2874e+00 -2.2874e+00  4e-05  2e-16  3e-16\n",
      "11: -2.2874e+00 -2.2874e+00  8e-07  2e-16  3e-16\n",
      "Optimal solution found.\n",
      "\n",
      " Calculating prediction values\n"
     ]
    },
    {
     "data": {
      "application/vnd.jupyter.widget-view+json": {
       "model_id": "1ee5b396cd4b4e0fafc1d5669b3438fa",
       "version_major": 2,
       "version_minor": 0
      },
      "text/plain": [
       "HBox(children=(IntProgress(value=0, max=37), HTML(value='')))"
      ]
     },
     "metadata": {},
     "output_type": "display_data"
    },
    {
     "name": "stdout",
     "output_type": "stream",
     "text": [
      "\n",
      "\n",
      " Calculating fullXmatrix\n"
     ]
    },
    {
     "data": {
      "application/vnd.jupyter.widget-view+json": {
       "model_id": "91f574cde5ad41689fbd368e8674fc6f",
       "version_major": 2,
       "version_minor": 0
      },
      "text/plain": [
       "HBox(children=(IntProgress(value=0, max=113), HTML(value='')))"
      ]
     },
     "metadata": {},
     "output_type": "display_data"
    },
    {
     "name": "stdout",
     "output_type": "stream",
     "text": [
      "\n",
      "\n",
      " Calculating Kernalized Product\n"
     ]
    },
    {
     "data": {
      "application/vnd.jupyter.widget-view+json": {
       "model_id": "0a73ea3514a041e2a0473f148bca07e7",
       "version_major": 2,
       "version_minor": 0
      },
      "text/plain": [
       "HBox(children=(IntProgress(value=0, max=113), HTML(value='')))"
      ]
     },
     "metadata": {},
     "output_type": "display_data"
    },
    {
     "name": "stdout",
     "output_type": "stream",
     "text": [
      "\n",
      "\n",
      " Calculating Kernalized Product\n"
     ]
    },
    {
     "data": {
      "application/vnd.jupyter.widget-view+json": {
       "model_id": "e7d5f4edd01b4736b4c3087c2afe0d3d",
       "version_major": 2,
       "version_minor": 0
      },
      "text/plain": [
       "HBox(children=(IntProgress(value=0, max=226), HTML(value='')))"
      ]
     },
     "metadata": {},
     "output_type": "display_data"
    },
    {
     "name": "stdout",
     "output_type": "stream",
     "text": [
      "\n",
      "\n",
      " Calculating Kernalized Product\n"
     ]
    },
    {
     "data": {
      "application/vnd.jupyter.widget-view+json": {
       "model_id": "b676af870eaa4f5dbb8faf3acdc4177c",
       "version_major": 2,
       "version_minor": 0
      },
      "text/plain": [
       "HBox(children=(IntProgress(value=0, max=226), HTML(value='')))"
      ]
     },
     "metadata": {},
     "output_type": "display_data"
    },
    {
     "name": "stdout",
     "output_type": "stream",
     "text": [
      "\n",
      "     pcost       dcost       gap    pres   dres\n",
      " 0:  1.7066e+02 -3.2061e+03  7e+03  2e-01  3e-15\n",
      " 1:  1.1862e+02 -2.6439e+02  4e+02  5e-03  3e-15\n",
      " 2:  1.6425e+01 -3.4084e+01  5e+01  2e-16  3e-15\n",
      " 3: -3.9568e-01 -7.4279e+00  7e+00  2e-16  2e-15\n",
      " 4: -1.9957e+00 -2.9487e+00  1e+00  2e-16  5e-16\n",
      " 5: -2.1622e+00 -2.4241e+00  3e-01  1e-16  3e-16\n",
      " 6: -2.2118e+00 -2.2939e+00  8e-02  2e-16  2e-16\n",
      " 7: -2.2333e+00 -2.2549e+00  2e-02  2e-16  2e-16\n",
      " 8: -2.2380e+00 -2.2433e+00  5e-03  2e-16  2e-16\n",
      " 9: -2.2395e+00 -2.2402e+00  6e-04  2e-16  3e-16\n",
      "10: -2.2397e+00 -2.2398e+00  5e-05  2e-16  3e-16\n",
      "11: -2.2397e+00 -2.2397e+00  8e-07  2e-16  3e-16\n",
      "Optimal solution found.\n",
      "\n",
      " Calculating prediction values\n"
     ]
    },
    {
     "data": {
      "application/vnd.jupyter.widget-view+json": {
       "model_id": "274a2b7b207549f1a506bcd3493672fa",
       "version_major": 2,
       "version_minor": 0
      },
      "text/plain": [
       "HBox(children=(IntProgress(value=0, max=37), HTML(value='')))"
      ]
     },
     "metadata": {},
     "output_type": "display_data"
    },
    {
     "name": "stdout",
     "output_type": "stream",
     "text": [
      "\n",
      "performCrossValidation took 4.980 seconds\n"
     ]
    }
   ],
   "source": [
    "num_folds =4\n",
    "mean_error_SMCSVM, mean_accuracy_SMCSVM= performCrossValidation(dataset.data,dataset.target,num_folds,clf)"
   ]
  },
  {
   "cell_type": "code",
   "execution_count": 12,
   "metadata": {},
   "outputs": [
    {
     "name": "stdout",
     "output_type": "stream",
     "text": [
      "+---------+----------+---------------+----------+-------+-------+--------+\n",
      "| dataset | # points | # attributess | #classes | 1-v-r | 1-v-1 | SMCSVM |\n",
      "+---------+----------+---------------+----------+-------+-------+--------+\n",
      "+---------+----------+---------------+----------+-------+-------+--------+\n"
     ]
    }
   ],
   "source": [
    "print(pt)"
   ]
  },
  {
   "cell_type": "code",
   "execution_count": 13,
   "metadata": {},
   "outputs": [
    {
     "data": {
      "text/html": [
       "<div>\n",
       "<style scoped>\n",
       "    .dataframe tbody tr th:only-of-type {\n",
       "        vertical-align: middle;\n",
       "    }\n",
       "\n",
       "    .dataframe tbody tr th {\n",
       "        vertical-align: top;\n",
       "    }\n",
       "\n",
       "    .dataframe thead th {\n",
       "        text-align: right;\n",
       "    }\n",
       "</style>\n",
       "<table border=\"1\" class=\"dataframe\">\n",
       "  <thead>\n",
       "    <tr style=\"text-align: right;\">\n",
       "      <th>col_0</th>\n",
       "      <th>0</th>\n",
       "      <th>1</th>\n",
       "      <th>2</th>\n",
       "    </tr>\n",
       "    <tr>\n",
       "      <th>row_0</th>\n",
       "      <th></th>\n",
       "      <th></th>\n",
       "      <th></th>\n",
       "    </tr>\n",
       "  </thead>\n",
       "  <tbody>\n",
       "    <tr>\n",
       "      <th>0</th>\n",
       "      <td>10</td>\n",
       "      <td>0</td>\n",
       "      <td>0</td>\n",
       "    </tr>\n",
       "    <tr>\n",
       "      <th>1</th>\n",
       "      <td>0</td>\n",
       "      <td>9</td>\n",
       "      <td>0</td>\n",
       "    </tr>\n",
       "    <tr>\n",
       "      <th>2</th>\n",
       "      <td>0</td>\n",
       "      <td>0</td>\n",
       "      <td>11</td>\n",
       "    </tr>\n",
       "  </tbody>\n",
       "</table>\n",
       "</div>"
      ],
      "text/plain": [
       "col_0   0  1   2\n",
       "row_0           \n",
       "0      10  0   0\n",
       "1       0  9   0\n",
       "2       0  0  11"
      ]
     },
     "execution_count": 13,
     "metadata": {},
     "output_type": "execute_result"
    }
   ],
   "source": [
    "clf = svm.SVC(C,gamma=0.78, decision_function_shape='ovo',kernel='rbf')\n",
    "clf.fit(X_train, y_train) \n",
    "predictedLabels=clf.predict(X_test)\n",
    "conMatrix = pd.crosstab(np.array(predictedLabels).ravel(),y_test.reshape(-1,1).ravel())\n",
    "conMatrix"
   ]
  },
  {
   "cell_type": "code",
   "execution_count": 14,
   "metadata": {},
   "outputs": [
    {
     "name": "stdout",
     "output_type": "stream",
     "text": [
      "-------------Performing 4-fold cross validation------------------ \n",
      "performCrossValidation took 0.009 seconds\n"
     ]
    }
   ],
   "source": [
    "mean_error_OVO, mean_accuracy_OVO = performCrossValidation(dataset.data,dataset.target,num_folds,clf)"
   ]
  },
  {
   "cell_type": "code",
   "execution_count": 15,
   "metadata": {},
   "outputs": [
    {
     "data": {
      "text/html": [
       "<div>\n",
       "<style scoped>\n",
       "    .dataframe tbody tr th:only-of-type {\n",
       "        vertical-align: middle;\n",
       "    }\n",
       "\n",
       "    .dataframe tbody tr th {\n",
       "        vertical-align: top;\n",
       "    }\n",
       "\n",
       "    .dataframe thead th {\n",
       "        text-align: right;\n",
       "    }\n",
       "</style>\n",
       "<table border=\"1\" class=\"dataframe\">\n",
       "  <thead>\n",
       "    <tr style=\"text-align: right;\">\n",
       "      <th>col_0</th>\n",
       "      <th>0</th>\n",
       "      <th>1</th>\n",
       "      <th>2</th>\n",
       "    </tr>\n",
       "    <tr>\n",
       "      <th>row_0</th>\n",
       "      <th></th>\n",
       "      <th></th>\n",
       "      <th></th>\n",
       "    </tr>\n",
       "  </thead>\n",
       "  <tbody>\n",
       "    <tr>\n",
       "      <th>0</th>\n",
       "      <td>10</td>\n",
       "      <td>0</td>\n",
       "      <td>0</td>\n",
       "    </tr>\n",
       "    <tr>\n",
       "      <th>1</th>\n",
       "      <td>0</td>\n",
       "      <td>9</td>\n",
       "      <td>0</td>\n",
       "    </tr>\n",
       "    <tr>\n",
       "      <th>2</th>\n",
       "      <td>0</td>\n",
       "      <td>0</td>\n",
       "      <td>11</td>\n",
       "    </tr>\n",
       "  </tbody>\n",
       "</table>\n",
       "</div>"
      ],
      "text/plain": [
       "col_0   0  1   2\n",
       "row_0           \n",
       "0      10  0   0\n",
       "1       0  9   0\n",
       "2       0  0  11"
      ]
     },
     "execution_count": 15,
     "metadata": {},
     "output_type": "execute_result"
    }
   ],
   "source": [
    "lin_clf = svm.LinearSVC(C=C,multi_class='ovr',max_iter=10**5)\n",
    "lin_clf.fit(X_train, y_train) \n",
    "predictedLabels= lin_clf.predict(X_test)\n",
    "conMatrix = pd.crosstab(np.array(predictedLabels).ravel(),y_test.reshape(-1,1).ravel())\n",
    "conMatrix"
   ]
  },
  {
   "cell_type": "code",
   "execution_count": 16,
   "metadata": {},
   "outputs": [
    {
     "name": "stdout",
     "output_type": "stream",
     "text": [
      "-------------Performing 4-fold cross validation------------------ \n",
      "performCrossValidation took 0.604 seconds\n"
     ]
    }
   ],
   "source": [
    "mean_error_OVR, mean_accuracy_OVR = performCrossValidation(dataset.data,dataset.target,num_folds,lin_clf)"
   ]
  },
  {
   "cell_type": "code",
   "execution_count": 17,
   "metadata": {},
   "outputs": [],
   "source": [
    "results.append(mean_error_OVR)\n",
    "results.append(mean_error_OVO)\n",
    "results.append(mean_error_SMCSVM)\n",
    "pt.add_row(results)"
   ]
  },
  {
   "cell_type": "markdown",
   "metadata": {},
   "source": [
    "### Testing the Algorithm on Wine Dataset"
   ]
  },
  {
   "cell_type": "code",
   "execution_count": 18,
   "metadata": {},
   "outputs": [],
   "source": [
    "results = []\n",
    "dataset = datasets.load_wine()\n",
    "results.append('WINE')\n",
    "results.append(dataset.data.shape[0])\n",
    "results.append(dataset.data.shape[1])\n",
    "results.append(len(dataset.target_names))\n",
    "X_train, X_test, y_train, y_test = train_test_split(dataset.data, dataset.target, test_size = 0.2, random_state = 42)"
   ]
  },
  {
   "cell_type": "code",
   "execution_count": 19,
   "metadata": {},
   "outputs": [],
   "source": [
    "kernel = 'rbf'\n",
    "degree = 1\n",
    "sigma = 0.8\n",
    "C = 10"
   ]
  },
  {
   "cell_type": "code",
   "execution_count": 20,
   "metadata": {},
   "outputs": [
    {
     "name": "stdout",
     "output_type": "stream",
     "text": [
      "\n",
      " Calculating fullXmatrix\n"
     ]
    },
    {
     "data": {
      "application/vnd.jupyter.widget-view+json": {
       "model_id": "85231dd5de764d6f9267c8d0bd6fa628",
       "version_major": 2,
       "version_minor": 0
      },
      "text/plain": [
       "HBox(children=(IntProgress(value=0, max=142), HTML(value='')))"
      ]
     },
     "metadata": {},
     "output_type": "display_data"
    },
    {
     "name": "stdout",
     "output_type": "stream",
     "text": [
      "\n",
      "\n",
      " Calculating Kernalized Product\n"
     ]
    },
    {
     "data": {
      "application/vnd.jupyter.widget-view+json": {
       "model_id": "24d7320183e3429bad812dc5d7c9ee15",
       "version_major": 2,
       "version_minor": 0
      },
      "text/plain": [
       "HBox(children=(IntProgress(value=0, max=142), HTML(value='')))"
      ]
     },
     "metadata": {},
     "output_type": "display_data"
    },
    {
     "name": "stdout",
     "output_type": "stream",
     "text": [
      "\n",
      "\n",
      " Calculating Kernalized Product\n"
     ]
    },
    {
     "data": {
      "application/vnd.jupyter.widget-view+json": {
       "model_id": "1c360bc5dfeb4fac81f8834b1c99b138",
       "version_major": 2,
       "version_minor": 0
      },
      "text/plain": [
       "HBox(children=(IntProgress(value=0, max=284), HTML(value='')))"
      ]
     },
     "metadata": {},
     "output_type": "display_data"
    },
    {
     "name": "stdout",
     "output_type": "stream",
     "text": [
      "\n",
      "\n",
      " Calculating Kernalized Product\n"
     ]
    },
    {
     "data": {
      "application/vnd.jupyter.widget-view+json": {
       "model_id": "548cc7336fec4945b6280dbb7894f592",
       "version_major": 2,
       "version_minor": 0
      },
      "text/plain": [
       "HBox(children=(IntProgress(value=0, max=284), HTML(value='')))"
      ]
     },
     "metadata": {},
     "output_type": "display_data"
    },
    {
     "name": "stdout",
     "output_type": "stream",
     "text": [
      "\n",
      "     pcost       dcost       gap    pres   dres\n",
      " 0:  1.4365e+03 -5.3354e+03  7e+03  3e-17  2e-15\n",
      " 1:  1.6906e+02 -4.9804e+02  7e+02  2e-16  2e-15\n",
      " 2: -3.1474e+01 -1.2204e+02  9e+01  2e-16  7e-16\n",
      " 3: -4.6698e+01 -5.4354e+01  8e+00  2e-16  3e-16\n",
      " 4: -4.6946e+01 -4.7056e+01  1e-01  2e-16  2e-16\n",
      " 5: -4.6946e+01 -4.6948e+01  1e-03  2e-16  2e-16\n",
      " 6: -4.6946e+01 -4.6946e+01  1e-05  2e-16  2e-16\n",
      "Optimal solution found.\n",
      "\n",
      " Calculating prediction values\n"
     ]
    },
    {
     "data": {
      "application/vnd.jupyter.widget-view+json": {
       "model_id": "1b83ac990a984e33aa04603e44cee0b9",
       "version_major": 2,
       "version_minor": 0
      },
      "text/plain": [
       "HBox(children=(IntProgress(value=0, max=36), HTML(value='')))"
      ]
     },
     "metadata": {},
     "output_type": "display_data"
    },
    {
     "name": "stdout",
     "output_type": "stream",
     "text": [
      "\n"
     ]
    },
    {
     "data": {
      "text/html": [
       "<div>\n",
       "<style scoped>\n",
       "    .dataframe tbody tr th:only-of-type {\n",
       "        vertical-align: middle;\n",
       "    }\n",
       "\n",
       "    .dataframe tbody tr th {\n",
       "        vertical-align: top;\n",
       "    }\n",
       "\n",
       "    .dataframe thead th {\n",
       "        text-align: right;\n",
       "    }\n",
       "</style>\n",
       "<table border=\"1\" class=\"dataframe\">\n",
       "  <thead>\n",
       "    <tr style=\"text-align: right;\">\n",
       "      <th>col_0</th>\n",
       "      <th>0</th>\n",
       "      <th>1</th>\n",
       "      <th>2</th>\n",
       "    </tr>\n",
       "    <tr>\n",
       "      <th>row_0</th>\n",
       "      <th></th>\n",
       "      <th></th>\n",
       "      <th></th>\n",
       "    </tr>\n",
       "  </thead>\n",
       "  <tbody>\n",
       "    <tr>\n",
       "      <th>0</th>\n",
       "      <td>12</td>\n",
       "      <td>3</td>\n",
       "      <td>1</td>\n",
       "    </tr>\n",
       "    <tr>\n",
       "      <th>1</th>\n",
       "      <td>0</td>\n",
       "      <td>11</td>\n",
       "      <td>2</td>\n",
       "    </tr>\n",
       "    <tr>\n",
       "      <th>2</th>\n",
       "      <td>2</td>\n",
       "      <td>0</td>\n",
       "      <td>5</td>\n",
       "    </tr>\n",
       "  </tbody>\n",
       "</table>\n",
       "</div>"
      ],
      "text/plain": [
       "col_0   0   1  2\n",
       "row_0           \n",
       "0      12   3  1\n",
       "1       0  11  2\n",
       "2       2   0  5"
      ]
     },
     "execution_count": 20,
     "metadata": {},
     "output_type": "execute_result"
    }
   ],
   "source": [
    "clf = SMCSVM(C,kernel,degree,sigma)\n",
    "clf.fit(X_train,y_train)\n",
    "predictedLabels = clf.predict(X_test)\n",
    "conMatrix = pd.crosstab(np.array(predictedLabels).ravel(),y_test.reshape(-1,1).ravel())\n",
    "conMatrix"
   ]
  },
  {
   "cell_type": "code",
   "execution_count": 21,
   "metadata": {},
   "outputs": [
    {
     "name": "stdout",
     "output_type": "stream",
     "text": [
      "-------------Performing 4-fold cross validation------------------ \n",
      "\n",
      " Calculating fullXmatrix\n"
     ]
    },
    {
     "data": {
      "application/vnd.jupyter.widget-view+json": {
       "model_id": "4868e0c659dd45eca622663176426147",
       "version_major": 2,
       "version_minor": 0
      },
      "text/plain": [
       "HBox(children=(IntProgress(value=0, max=133), HTML(value='')))"
      ]
     },
     "metadata": {},
     "output_type": "display_data"
    },
    {
     "name": "stdout",
     "output_type": "stream",
     "text": [
      "\n",
      "\n",
      " Calculating Kernalized Product\n"
     ]
    },
    {
     "data": {
      "application/vnd.jupyter.widget-view+json": {
       "model_id": "26a17db86fe643199cb1f7c5aec27398",
       "version_major": 2,
       "version_minor": 0
      },
      "text/plain": [
       "HBox(children=(IntProgress(value=0, max=133), HTML(value='')))"
      ]
     },
     "metadata": {},
     "output_type": "display_data"
    },
    {
     "name": "stdout",
     "output_type": "stream",
     "text": [
      "\n",
      "\n",
      " Calculating Kernalized Product\n"
     ]
    },
    {
     "data": {
      "application/vnd.jupyter.widget-view+json": {
       "model_id": "346ee2697ee741da9d15876b80986749",
       "version_major": 2,
       "version_minor": 0
      },
      "text/plain": [
       "HBox(children=(IntProgress(value=0, max=266), HTML(value='')))"
      ]
     },
     "metadata": {},
     "output_type": "display_data"
    },
    {
     "name": "stdout",
     "output_type": "stream",
     "text": [
      "\n",
      "\n",
      " Calculating Kernalized Product\n"
     ]
    },
    {
     "data": {
      "application/vnd.jupyter.widget-view+json": {
       "model_id": "862f0d76db75448cb4d13297d54d7465",
       "version_major": 2,
       "version_minor": 0
      },
      "text/plain": [
       "HBox(children=(IntProgress(value=0, max=266), HTML(value='')))"
      ]
     },
     "metadata": {},
     "output_type": "display_data"
    },
    {
     "name": "stdout",
     "output_type": "stream",
     "text": [
      "\n",
      "     pcost       dcost       gap    pres   dres\n",
      " 0:  1.3452e+03 -4.9863e+03  6e+03  3e-17  2e-15\n",
      " 1:  1.5827e+02 -4.6574e+02  6e+02  1e-16  2e-15\n",
      " 2: -2.9367e+01 -1.1409e+02  8e+01  2e-16  8e-16\n",
      " 3: -4.3619e+01 -5.0787e+01  7e+00  2e-16  3e-16\n",
      " 4: -4.3852e+01 -4.3955e+01  1e-01  2e-16  2e-16\n",
      " 5: -4.3852e+01 -4.3853e+01  1e-03  2e-16  2e-16\n",
      " 6: -4.3852e+01 -4.3852e+01  1e-05  2e-16  2e-16\n",
      "Optimal solution found.\n",
      "\n",
      " Calculating prediction values\n"
     ]
    },
    {
     "data": {
      "application/vnd.jupyter.widget-view+json": {
       "model_id": "20e300de9b65422d8aa5560127048866",
       "version_major": 2,
       "version_minor": 0
      },
      "text/plain": [
       "HBox(children=(IntProgress(value=0, max=45), HTML(value='')))"
      ]
     },
     "metadata": {},
     "output_type": "display_data"
    },
    {
     "name": "stdout",
     "output_type": "stream",
     "text": [
      "\n",
      "\n",
      " Calculating fullXmatrix\n"
     ]
    },
    {
     "data": {
      "application/vnd.jupyter.widget-view+json": {
       "model_id": "56f01356d75d472abb8b79fcfcbfb886",
       "version_major": 2,
       "version_minor": 0
      },
      "text/plain": [
       "HBox(children=(IntProgress(value=0, max=133), HTML(value='')))"
      ]
     },
     "metadata": {},
     "output_type": "display_data"
    },
    {
     "name": "stdout",
     "output_type": "stream",
     "text": [
      "\n",
      "\n",
      " Calculating Kernalized Product\n"
     ]
    },
    {
     "data": {
      "application/vnd.jupyter.widget-view+json": {
       "model_id": "d6ddbd7e101546c4ad5fa90a53254c78",
       "version_major": 2,
       "version_minor": 0
      },
      "text/plain": [
       "HBox(children=(IntProgress(value=0, max=133), HTML(value='')))"
      ]
     },
     "metadata": {},
     "output_type": "display_data"
    },
    {
     "name": "stdout",
     "output_type": "stream",
     "text": [
      "\n",
      "\n",
      " Calculating Kernalized Product\n"
     ]
    },
    {
     "data": {
      "application/vnd.jupyter.widget-view+json": {
       "model_id": "be365388f6c24c55854ae53bf7596725",
       "version_major": 2,
       "version_minor": 0
      },
      "text/plain": [
       "HBox(children=(IntProgress(value=0, max=266), HTML(value='')))"
      ]
     },
     "metadata": {},
     "output_type": "display_data"
    },
    {
     "name": "stdout",
     "output_type": "stream",
     "text": [
      "\n",
      "\n",
      " Calculating Kernalized Product\n"
     ]
    },
    {
     "data": {
      "application/vnd.jupyter.widget-view+json": {
       "model_id": "335228f4958943419ecf2e2a7a378730",
       "version_major": 2,
       "version_minor": 0
      },
      "text/plain": [
       "HBox(children=(IntProgress(value=0, max=266), HTML(value='')))"
      ]
     },
     "metadata": {},
     "output_type": "display_data"
    },
    {
     "name": "stdout",
     "output_type": "stream",
     "text": [
      "\n",
      "     pcost       dcost       gap    pres   dres\n",
      " 0:  1.3454e+03 -4.9814e+03  6e+03  3e-17  2e-15\n",
      " 1:  1.5814e+02 -4.6586e+02  6e+02  2e-16  2e-15\n",
      " 2: -2.9453e+01 -1.1417e+02  8e+01  2e-16  7e-16\n",
      " 3: -4.3693e+01 -5.0854e+01  7e+00  2e-16  3e-16\n",
      " 4: -4.3925e+01 -4.4028e+01  1e-01  2e-16  2e-16\n",
      " 5: -4.3925e+01 -4.3926e+01  1e-03  2e-16  2e-16\n",
      " 6: -4.3925e+01 -4.3925e+01  1e-05  2e-16  2e-16\n",
      "Optimal solution found.\n",
      "\n",
      " Calculating prediction values\n"
     ]
    },
    {
     "data": {
      "application/vnd.jupyter.widget-view+json": {
       "model_id": "846346ae52c2426ea5c054de3bfd51c7",
       "version_major": 2,
       "version_minor": 0
      },
      "text/plain": [
       "HBox(children=(IntProgress(value=0, max=45), HTML(value='')))"
      ]
     },
     "metadata": {},
     "output_type": "display_data"
    },
    {
     "name": "stdout",
     "output_type": "stream",
     "text": [
      "\n",
      "\n",
      " Calculating fullXmatrix\n"
     ]
    },
    {
     "data": {
      "application/vnd.jupyter.widget-view+json": {
       "model_id": "acfb9899dedf42879a4fbc676cf5ed9e",
       "version_major": 2,
       "version_minor": 0
      },
      "text/plain": [
       "HBox(children=(IntProgress(value=0, max=134), HTML(value='')))"
      ]
     },
     "metadata": {},
     "output_type": "display_data"
    },
    {
     "name": "stdout",
     "output_type": "stream",
     "text": [
      "\n",
      "\n",
      " Calculating Kernalized Product\n"
     ]
    },
    {
     "data": {
      "application/vnd.jupyter.widget-view+json": {
       "model_id": "761eb33321a543ebb4845bfe52611878",
       "version_major": 2,
       "version_minor": 0
      },
      "text/plain": [
       "HBox(children=(IntProgress(value=0, max=134), HTML(value='')))"
      ]
     },
     "metadata": {},
     "output_type": "display_data"
    },
    {
     "name": "stdout",
     "output_type": "stream",
     "text": [
      "\n",
      "\n",
      " Calculating Kernalized Product\n"
     ]
    },
    {
     "data": {
      "application/vnd.jupyter.widget-view+json": {
       "model_id": "1b757a866e1345a5ac7b9dbefe3d1fcd",
       "version_major": 2,
       "version_minor": 0
      },
      "text/plain": [
       "HBox(children=(IntProgress(value=0, max=268), HTML(value='')))"
      ]
     },
     "metadata": {},
     "output_type": "display_data"
    },
    {
     "name": "stdout",
     "output_type": "stream",
     "text": [
      "\n",
      "\n",
      " Calculating Kernalized Product\n"
     ]
    },
    {
     "data": {
      "application/vnd.jupyter.widget-view+json": {
       "model_id": "8e8864b2f78440d5ab4ba03590db0394",
       "version_major": 2,
       "version_minor": 0
      },
      "text/plain": [
       "HBox(children=(IntProgress(value=0, max=268), HTML(value='')))"
      ]
     },
     "metadata": {},
     "output_type": "display_data"
    },
    {
     "name": "stdout",
     "output_type": "stream",
     "text": [
      "\n",
      "     pcost       dcost       gap    pres   dres\n",
      " 0:  1.3555e+03 -5.0339e+03  6e+03  3e-17  2e-15\n",
      " 1:  1.5951e+02 -4.6977e+02  6e+02  2e-16  2e-15\n",
      " 2: -2.9696e+01 -1.1514e+02  9e+01  2e-16  7e-16\n",
      " 3: -4.4058e+01 -5.1282e+01  7e+00  2e-16  3e-16\n",
      " 4: -4.4293e+01 -4.4396e+01  1e-01  2e-16  2e-16\n",
      " 5: -4.4293e+01 -4.4294e+01  1e-03  2e-16  2e-16\n",
      " 6: -4.4293e+01 -4.4293e+01  1e-05  2e-16  2e-16\n",
      "Optimal solution found.\n",
      "\n",
      " Calculating prediction values\n"
     ]
    },
    {
     "data": {
      "application/vnd.jupyter.widget-view+json": {
       "model_id": "1093ed9f239144c3af711bdc5ed96818",
       "version_major": 2,
       "version_minor": 0
      },
      "text/plain": [
       "HBox(children=(IntProgress(value=0, max=44), HTML(value='')))"
      ]
     },
     "metadata": {},
     "output_type": "display_data"
    },
    {
     "name": "stdout",
     "output_type": "stream",
     "text": [
      "\n",
      "\n",
      " Calculating fullXmatrix\n"
     ]
    },
    {
     "data": {
      "application/vnd.jupyter.widget-view+json": {
       "model_id": "d64b740f6cae4abf8309e37edff405da",
       "version_major": 2,
       "version_minor": 0
      },
      "text/plain": [
       "HBox(children=(IntProgress(value=0, max=134), HTML(value='')))"
      ]
     },
     "metadata": {},
     "output_type": "display_data"
    },
    {
     "name": "stdout",
     "output_type": "stream",
     "text": [
      "\n",
      "\n",
      " Calculating Kernalized Product\n"
     ]
    },
    {
     "data": {
      "application/vnd.jupyter.widget-view+json": {
       "model_id": "717647df8b034182b9054253ec88bd52",
       "version_major": 2,
       "version_minor": 0
      },
      "text/plain": [
       "HBox(children=(IntProgress(value=0, max=134), HTML(value='')))"
      ]
     },
     "metadata": {},
     "output_type": "display_data"
    },
    {
     "name": "stdout",
     "output_type": "stream",
     "text": [
      "\n",
      "\n",
      " Calculating Kernalized Product\n"
     ]
    },
    {
     "data": {
      "application/vnd.jupyter.widget-view+json": {
       "model_id": "d180294a10eb4d3abe58454d2078fbf9",
       "version_major": 2,
       "version_minor": 0
      },
      "text/plain": [
       "HBox(children=(IntProgress(value=0, max=268), HTML(value='')))"
      ]
     },
     "metadata": {},
     "output_type": "display_data"
    },
    {
     "name": "stdout",
     "output_type": "stream",
     "text": [
      "\n",
      "\n",
      " Calculating Kernalized Product\n"
     ]
    },
    {
     "data": {
      "application/vnd.jupyter.widget-view+json": {
       "model_id": "064df943620645adaf755be4889f1b61",
       "version_major": 2,
       "version_minor": 0
      },
      "text/plain": [
       "HBox(children=(IntProgress(value=0, max=268), HTML(value='')))"
      ]
     },
     "metadata": {},
     "output_type": "display_data"
    },
    {
     "name": "stdout",
     "output_type": "stream",
     "text": [
      "\n",
      "     pcost       dcost       gap    pres   dres\n",
      " 0:  1.3554e+03 -5.0014e+03  6e+03  3e-17  2e-15\n",
      " 1:  1.5916e+02 -4.6891e+02  6e+02  2e-16  2e-15\n",
      " 2: -2.9611e+01 -1.1486e+02  9e+01  2e-16  7e-16\n",
      " 3: -4.3943e+01 -5.1152e+01  7e+00  2e-16  3e-16\n",
      " 4: -4.4178e+01 -4.4281e+01  1e-01  2e-16  2e-16\n",
      " 5: -4.4178e+01 -4.4179e+01  1e-03  2e-16  2e-16\n",
      " 6: -4.4178e+01 -4.4178e+01  1e-05  2e-16  2e-16\n",
      "Optimal solution found.\n",
      "\n",
      " Calculating prediction values\n"
     ]
    },
    {
     "data": {
      "application/vnd.jupyter.widget-view+json": {
       "model_id": "acd084b646274685b67303057b251bf6",
       "version_major": 2,
       "version_minor": 0
      },
      "text/plain": [
       "HBox(children=(IntProgress(value=0, max=44), HTML(value='')))"
      ]
     },
     "metadata": {},
     "output_type": "display_data"
    },
    {
     "name": "stdout",
     "output_type": "stream",
     "text": [
      "\n",
      "performCrossValidation took 7.098 seconds\n"
     ]
    }
   ],
   "source": [
    "num_folds =4\n",
    "mean_error_SMCSVM, mean_accuracy_SMCSVM=performCrossValidation(dataset.data,dataset.target,num_folds,clf)"
   ]
  },
  {
   "cell_type": "code",
   "execution_count": 22,
   "metadata": {},
   "outputs": [
    {
     "data": {
      "text/html": [
       "<div>\n",
       "<style scoped>\n",
       "    .dataframe tbody tr th:only-of-type {\n",
       "        vertical-align: middle;\n",
       "    }\n",
       "\n",
       "    .dataframe tbody tr th {\n",
       "        vertical-align: top;\n",
       "    }\n",
       "\n",
       "    .dataframe thead th {\n",
       "        text-align: right;\n",
       "    }\n",
       "</style>\n",
       "<table border=\"1\" class=\"dataframe\">\n",
       "  <thead>\n",
       "    <tr style=\"text-align: right;\">\n",
       "      <th>col_0</th>\n",
       "      <th>0</th>\n",
       "      <th>1</th>\n",
       "      <th>2</th>\n",
       "    </tr>\n",
       "    <tr>\n",
       "      <th>row_0</th>\n",
       "      <th></th>\n",
       "      <th></th>\n",
       "      <th></th>\n",
       "    </tr>\n",
       "  </thead>\n",
       "  <tbody>\n",
       "    <tr>\n",
       "      <th>0</th>\n",
       "      <td>12</td>\n",
       "      <td>0</td>\n",
       "      <td>1</td>\n",
       "    </tr>\n",
       "    <tr>\n",
       "      <th>1</th>\n",
       "      <td>0</td>\n",
       "      <td>12</td>\n",
       "      <td>1</td>\n",
       "    </tr>\n",
       "    <tr>\n",
       "      <th>2</th>\n",
       "      <td>2</td>\n",
       "      <td>2</td>\n",
       "      <td>6</td>\n",
       "    </tr>\n",
       "  </tbody>\n",
       "</table>\n",
       "</div>"
      ],
      "text/plain": [
       "col_0   0   1  2\n",
       "row_0           \n",
       "0      12   0  1\n",
       "1       0  12  1\n",
       "2       2   2  6"
      ]
     },
     "execution_count": 22,
     "metadata": {},
     "output_type": "execute_result"
    }
   ],
   "source": [
    "clf = svm.SVC(C,gamma=0.001, decision_function_shape='ovo',kernel='rbf')\n",
    "clf.fit(X_train, y_train) \n",
    "\n",
    "predictedLabels=clf.predict(X_test)\n",
    "\n",
    "conMatrix = pd.crosstab(np.array(predictedLabels).ravel(),y_test.reshape(-1,1).ravel())\n",
    "conMatrix"
   ]
  },
  {
   "cell_type": "code",
   "execution_count": 23,
   "metadata": {},
   "outputs": [
    {
     "name": "stdout",
     "output_type": "stream",
     "text": [
      "-------------Performing 4-fold cross validation------------------ \n",
      "performCrossValidation took 0.043 seconds\n"
     ]
    }
   ],
   "source": [
    "mean_error_OVO, mean_accuracy_OVO = performCrossValidation(dataset.data,dataset.target,num_folds,clf)"
   ]
  },
  {
   "cell_type": "code",
   "execution_count": 24,
   "metadata": {},
   "outputs": [
    {
     "name": "stderr",
     "output_type": "stream",
     "text": [
      "/usr/local/lib/python3.6/dist-packages/sklearn/svm/base.py:931: ConvergenceWarning: Liblinear failed to converge, increase the number of iterations.\n",
      "  \"the number of iterations.\", ConvergenceWarning)\n"
     ]
    },
    {
     "data": {
      "text/html": [
       "<div>\n",
       "<style scoped>\n",
       "    .dataframe tbody tr th:only-of-type {\n",
       "        vertical-align: middle;\n",
       "    }\n",
       "\n",
       "    .dataframe tbody tr th {\n",
       "        vertical-align: top;\n",
       "    }\n",
       "\n",
       "    .dataframe thead th {\n",
       "        text-align: right;\n",
       "    }\n",
       "</style>\n",
       "<table border=\"1\" class=\"dataframe\">\n",
       "  <thead>\n",
       "    <tr style=\"text-align: right;\">\n",
       "      <th>col_0</th>\n",
       "      <th>0</th>\n",
       "      <th>1</th>\n",
       "      <th>2</th>\n",
       "    </tr>\n",
       "    <tr>\n",
       "      <th>row_0</th>\n",
       "      <th></th>\n",
       "      <th></th>\n",
       "      <th></th>\n",
       "    </tr>\n",
       "  </thead>\n",
       "  <tbody>\n",
       "    <tr>\n",
       "      <th>0</th>\n",
       "      <td>13</td>\n",
       "      <td>0</td>\n",
       "      <td>0</td>\n",
       "    </tr>\n",
       "    <tr>\n",
       "      <th>1</th>\n",
       "      <td>1</td>\n",
       "      <td>14</td>\n",
       "      <td>0</td>\n",
       "    </tr>\n",
       "    <tr>\n",
       "      <th>2</th>\n",
       "      <td>0</td>\n",
       "      <td>0</td>\n",
       "      <td>8</td>\n",
       "    </tr>\n",
       "  </tbody>\n",
       "</table>\n",
       "</div>"
      ],
      "text/plain": [
       "col_0   0   1  2\n",
       "row_0           \n",
       "0      13   0  0\n",
       "1       1  14  0\n",
       "2       0   0  8"
      ]
     },
     "execution_count": 24,
     "metadata": {},
     "output_type": "execute_result"
    }
   ],
   "source": [
    "lin_clf = svm.LinearSVC(C=C,multi_class='ovr',max_iter=10**5)\n",
    "lin_clf.fit(X_train, y_train) \n",
    "predictedLabelVector = lin_clf.predict(X_test)\n",
    "conMatrix = pd.crosstab(np.array(predictedLabelVector).ravel(),y_test.reshape(-1,1).ravel())\n",
    "conMatrix"
   ]
  },
  {
   "cell_type": "code",
   "execution_count": 25,
   "metadata": {},
   "outputs": [
    {
     "name": "stdout",
     "output_type": "stream",
     "text": [
      "-------------Performing 4-fold cross validation------------------ \n"
     ]
    },
    {
     "name": "stderr",
     "output_type": "stream",
     "text": [
      "/usr/local/lib/python3.6/dist-packages/sklearn/svm/base.py:931: ConvergenceWarning: Liblinear failed to converge, increase the number of iterations.\n",
      "  \"the number of iterations.\", ConvergenceWarning)\n",
      "/usr/local/lib/python3.6/dist-packages/sklearn/svm/base.py:931: ConvergenceWarning: Liblinear failed to converge, increase the number of iterations.\n",
      "  \"the number of iterations.\", ConvergenceWarning)\n",
      "/usr/local/lib/python3.6/dist-packages/sklearn/svm/base.py:931: ConvergenceWarning: Liblinear failed to converge, increase the number of iterations.\n",
      "  \"the number of iterations.\", ConvergenceWarning)\n"
     ]
    },
    {
     "name": "stdout",
     "output_type": "stream",
     "text": [
      "performCrossValidation took 2.223 seconds\n"
     ]
    },
    {
     "name": "stderr",
     "output_type": "stream",
     "text": [
      "/usr/local/lib/python3.6/dist-packages/sklearn/svm/base.py:931: ConvergenceWarning: Liblinear failed to converge, increase the number of iterations.\n",
      "  \"the number of iterations.\", ConvergenceWarning)\n"
     ]
    }
   ],
   "source": [
    "mean_error_OVR, mean_accuracy_OVR = performCrossValidation(dataset.data,dataset.target,num_folds,lin_clf)"
   ]
  },
  {
   "cell_type": "code",
   "execution_count": 26,
   "metadata": {},
   "outputs": [],
   "source": [
    "results.append(mean_error_OVR)\n",
    "results.append(mean_error_OVO)\n",
    "results.append(mean_error_SMCSVM)\n",
    "pt.add_row(results)"
   ]
  },
  {
   "cell_type": "code",
   "execution_count": 27,
   "metadata": {},
   "outputs": [],
   "source": [
    "path = './test_results.txt'\n",
    "with open(path, 'a+') as thefile:\n",
    "        thefile.write(pt.get_string())"
   ]
  },
  {
   "cell_type": "markdown",
   "metadata": {},
   "source": [
    "### testing "
   ]
  },
  {
   "cell_type": "code",
   "execution_count": 30,
   "metadata": {},
   "outputs": [],
   "source": [
    "dataset=datasets.load_diabetes()\n",
    "X_train, X_test, y_train, y_test = train_test_split(dataset.data, dataset.target, test_size = 0.2, random_state = 42)"
   ]
  },
  {
   "cell_type": "code",
   "execution_count": 31,
   "metadata": {},
   "outputs": [
    {
     "data": {
      "text/plain": [
       "{'data': array([[ 0.03807591,  0.05068012,  0.06169621, ..., -0.00259226,\n",
       "          0.01990842, -0.01764613],\n",
       "        [-0.00188202, -0.04464164, -0.05147406, ..., -0.03949338,\n",
       "         -0.06832974, -0.09220405],\n",
       "        [ 0.08529891,  0.05068012,  0.04445121, ..., -0.00259226,\n",
       "          0.00286377, -0.02593034],\n",
       "        ..., \n",
       "        [ 0.04170844,  0.05068012, -0.01590626, ..., -0.01107952,\n",
       "         -0.04687948,  0.01549073],\n",
       "        [-0.04547248, -0.04464164,  0.03906215, ...,  0.02655962,\n",
       "          0.04452837, -0.02593034],\n",
       "        [-0.04547248, -0.04464164, -0.0730303 , ..., -0.03949338,\n",
       "         -0.00421986,  0.00306441]]),\n",
       " 'target': array([ 151.,   75.,  141.,  206.,  135.,   97.,  138.,   63.,  110.,\n",
       "         310.,  101.,   69.,  179.,  185.,  118.,  171.,  166.,  144.,\n",
       "          97.,  168.,   68.,   49.,   68.,  245.,  184.,  202.,  137.,\n",
       "          85.,  131.,  283.,  129.,   59.,  341.,   87.,   65.,  102.,\n",
       "         265.,  276.,  252.,   90.,  100.,   55.,   61.,   92.,  259.,\n",
       "          53.,  190.,  142.,   75.,  142.,  155.,  225.,   59.,  104.,\n",
       "         182.,  128.,   52.,   37.,  170.,  170.,   61.,  144.,   52.,\n",
       "         128.,   71.,  163.,  150.,   97.,  160.,  178.,   48.,  270.,\n",
       "         202.,  111.,   85.,   42.,  170.,  200.,  252.,  113.,  143.,\n",
       "          51.,   52.,  210.,   65.,  141.,   55.,  134.,   42.,  111.,\n",
       "          98.,  164.,   48.,   96.,   90.,  162.,  150.,  279.,   92.,\n",
       "          83.,  128.,  102.,  302.,  198.,   95.,   53.,  134.,  144.,\n",
       "         232.,   81.,  104.,   59.,  246.,  297.,  258.,  229.,  275.,\n",
       "         281.,  179.,  200.,  200.,  173.,  180.,   84.,  121.,  161.,\n",
       "          99.,  109.,  115.,  268.,  274.,  158.,  107.,   83.,  103.,\n",
       "         272.,   85.,  280.,  336.,  281.,  118.,  317.,  235.,   60.,\n",
       "         174.,  259.,  178.,  128.,   96.,  126.,  288.,   88.,  292.,\n",
       "          71.,  197.,  186.,   25.,   84.,   96.,  195.,   53.,  217.,\n",
       "         172.,  131.,  214.,   59.,   70.,  220.,  268.,  152.,   47.,\n",
       "          74.,  295.,  101.,  151.,  127.,  237.,  225.,   81.,  151.,\n",
       "         107.,   64.,  138.,  185.,  265.,  101.,  137.,  143.,  141.,\n",
       "          79.,  292.,  178.,   91.,  116.,   86.,  122.,   72.,  129.,\n",
       "         142.,   90.,  158.,   39.,  196.,  222.,  277.,   99.,  196.,\n",
       "         202.,  155.,   77.,  191.,   70.,   73.,   49.,   65.,  263.,\n",
       "         248.,  296.,  214.,  185.,   78.,   93.,  252.,  150.,   77.,\n",
       "         208.,   77.,  108.,  160.,   53.,  220.,  154.,  259.,   90.,\n",
       "         246.,  124.,   67.,   72.,  257.,  262.,  275.,  177.,   71.,\n",
       "          47.,  187.,  125.,   78.,   51.,  258.,  215.,  303.,  243.,\n",
       "          91.,  150.,  310.,  153.,  346.,   63.,   89.,   50.,   39.,\n",
       "         103.,  308.,  116.,  145.,   74.,   45.,  115.,  264.,   87.,\n",
       "         202.,  127.,  182.,  241.,   66.,   94.,  283.,   64.,  102.,\n",
       "         200.,  265.,   94.,  230.,  181.,  156.,  233.,   60.,  219.,\n",
       "          80.,   68.,  332.,  248.,   84.,  200.,   55.,   85.,   89.,\n",
       "          31.,  129.,   83.,  275.,   65.,  198.,  236.,  253.,  124.,\n",
       "          44.,  172.,  114.,  142.,  109.,  180.,  144.,  163.,  147.,\n",
       "          97.,  220.,  190.,  109.,  191.,  122.,  230.,  242.,  248.,\n",
       "         249.,  192.,  131.,  237.,   78.,  135.,  244.,  199.,  270.,\n",
       "         164.,   72.,   96.,  306.,   91.,  214.,   95.,  216.,  263.,\n",
       "         178.,  113.,  200.,  139.,  139.,   88.,  148.,   88.,  243.,\n",
       "          71.,   77.,  109.,  272.,   60.,   54.,  221.,   90.,  311.,\n",
       "         281.,  182.,  321.,   58.,  262.,  206.,  233.,  242.,  123.,\n",
       "         167.,   63.,  197.,   71.,  168.,  140.,  217.,  121.,  235.,\n",
       "         245.,   40.,   52.,  104.,  132.,   88.,   69.,  219.,   72.,\n",
       "         201.,  110.,   51.,  277.,   63.,  118.,   69.,  273.,  258.,\n",
       "          43.,  198.,  242.,  232.,  175.,   93.,  168.,  275.,  293.,\n",
       "         281.,   72.,  140.,  189.,  181.,  209.,  136.,  261.,  113.,\n",
       "         131.,  174.,  257.,   55.,   84.,   42.,  146.,  212.,  233.,\n",
       "          91.,  111.,  152.,  120.,   67.,  310.,   94.,  183.,   66.,\n",
       "         173.,   72.,   49.,   64.,   48.,  178.,  104.,  132.,  220.,   57.]),\n",
       " 'DESCR': '.. _diabetes_dataset:\\n\\nDiabetes dataset\\n----------------\\n\\nTen baseline variables, age, sex, body mass index, average blood\\npressure, and six blood serum measurements were obtained for each of n =\\n442 diabetes patients, as well as the response of interest, a\\nquantitative measure of disease progression one year after baseline.\\n\\n**Data Set Characteristics:**\\n\\n  :Number of Instances: 442\\n\\n  :Number of Attributes: First 10 columns are numeric predictive values\\n\\n  :Target: Column 11 is a quantitative measure of disease progression one year after baseline\\n\\n  :Attribute Information:\\n      - Age\\n      - Sex\\n      - Body mass index\\n      - Average blood pressure\\n      - S1\\n      - S2\\n      - S3\\n      - S4\\n      - S5\\n      - S6\\n\\nNote: Each of these 10 feature variables have been mean centered and scaled by the standard deviation times `n_samples` (i.e. the sum of squares of each column totals 1).\\n\\nSource URL:\\nhttp://www4.stat.ncsu.edu/~boos/var.select/diabetes.html\\n\\nFor more information see:\\nBradley Efron, Trevor Hastie, Iain Johnstone and Robert Tibshirani (2004) \"Least Angle Regression,\" Annals of Statistics (with discussion), 407-499.\\n(http://web.stanford.edu/~hastie/Papers/LARS/LeastAngle_2002.pdf)',\n",
       " 'feature_names': ['age',\n",
       "  'sex',\n",
       "  'bmi',\n",
       "  'bp',\n",
       "  's1',\n",
       "  's2',\n",
       "  's3',\n",
       "  's4',\n",
       "  's5',\n",
       "  's6'],\n",
       " 'data_filename': '/usr/local/lib/python3.6/dist-packages/sklearn/datasets/data/diabetes_data.csv.gz',\n",
       " 'target_filename': '/usr/local/lib/python3.6/dist-packages/sklearn/datasets/data/diabetes_target.csv.gz'}"
      ]
     },
     "execution_count": 31,
     "metadata": {},
     "output_type": "execute_result"
    }
   ],
   "source": [
    "dataset"
   ]
  },
  {
   "cell_type": "code",
   "execution_count": null,
   "metadata": {},
   "outputs": [],
   "source": [
    "kernel = 'rbf'\n",
    "degree = 1\n",
    "sigma = 0.8\n",
    "C = 10"
   ]
  },
  {
   "cell_type": "code",
   "execution_count": null,
   "metadata": {},
   "outputs": [],
   "source": [
    "clf = SMCSVM(C,kernel,degree,sigma)\n",
    "clf.fit(X_train,y_train)\n",
    "predictedLabels = clf.predict(X_test)\n",
    "conMatrix = pd.crosstab(np.array(predictedLabels).ravel(),y_test.reshape(-1,1).ravel())\n",
    "conMatrix"
   ]
  },
  {
   "cell_type": "code",
   "execution_count": null,
   "metadata": {},
   "outputs": [],
   "source": [
    "num_folds =4\n",
    "performCrossValidation(dataset.data,dataset.target,num_folds,clf)"
   ]
  },
  {
   "cell_type": "code",
   "execution_count": null,
   "metadata": {},
   "outputs": [],
   "source": [
    "clf = svm.SVC()\n",
    "clf.fit(X_train, y_train) \n",
    "\n",
    "predictedLabels=clf.predict(X_test)\n",
    "\n",
    "conMatrix = pd.crosstab(np.array(predictedLabels).ravel(),y_test.reshape(-1,1).ravel())\n",
    "conMatrix"
   ]
  },
  {
   "cell_type": "code",
   "execution_count": null,
   "metadata": {},
   "outputs": [],
   "source": [
    "performCrossValidation(dataset.data,dataset.target,num_folds,clf)"
   ]
  },
  {
   "cell_type": "code",
   "execution_count": null,
   "metadata": {},
   "outputs": [],
   "source": [
    "lin_clf = svm.LinearSVC(C=C,multi_class='ovr',max_iter=10**5)\n",
    "lin_clf.fit(X_train, y_train) \n",
    "predictedLabelVector = lin_clf.predict(X_test)\n",
    "conMatrix = pd.crosstab(np.array(predictedLabelVector).ravel(),y_test.reshape(-1,1).ravel())\n",
    "conMatrix"
   ]
  },
  {
   "cell_type": "code",
   "execution_count": null,
   "metadata": {},
   "outputs": [],
   "source": [
    "performCrossValidation(dataset.data,dataset.target,num_folds,lin_clf)"
   ]
  }
 ],
 "metadata": {
  "kernelspec": {
   "display_name": "Python 3",
   "language": "python",
   "name": "python3"
  },
  "language_info": {
   "codemirror_mode": {
    "name": "ipython",
    "version": 3
   },
   "file_extension": ".py",
   "mimetype": "text/x-python",
   "name": "python",
   "nbconvert_exporter": "python",
   "pygments_lexer": "ipython3",
   "version": "3.6.7"
  }
 },
 "nbformat": 4,
 "nbformat_minor": 2
}
