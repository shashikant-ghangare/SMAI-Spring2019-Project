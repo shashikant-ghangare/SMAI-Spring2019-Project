{
 "cells": [
  {
   "cell_type": "code",
   "execution_count": 53,
   "metadata": {},
   "outputs": [],
   "source": [
    "import pandas as pd\n",
    "import time\n",
    "import numpy as np\n",
    "from tqdm import tqdm_notebook as tqdm\n",
    "from numpy import dot, array\n",
    "import scipy\n",
    "from scipy import sparse\n",
    "import matplotlib.pyplot as plt\n",
    "from matplotlib.colors import ListedColormap\n",
    "from sklearn.datasets import make_classification\n",
    "from sklearn.datasets import make_blobs\n",
    "from sklearn.datasets import make_gaussian_quantiles\n",
    "import cvxopt\n",
    "import math"
   ]
  },
  {
   "cell_type": "code",
   "execution_count": 8,
   "metadata": {},
   "outputs": [],
   "source": [
    "def dimensionality_reduction(X_data,Y_label,save=False):\n",
    "    meanVector = np.mean(X_data,axis = 0)\n",
    "    centeredX_data = X_data - meanVector\n",
    "    sdVector = np.std(centeredX_data.astype(float),axis = 0)\n",
    "    for index,value in enumerate(sdVector):\n",
    "      if value <= 1e-5:\n",
    "          sdVector[index] = 1.0  \n",
    "        \n",
    "    centeredX_data /= sdVector\n",
    "    \n",
    "    covX_data = np.array([centeredX_data[0,:]]).T@ np.array([centeredX_data[0,:]])\n",
    "    for i in range(1,len(centeredX_data)):\n",
    "        covX_data += np.array([centeredX_data[i,:]]).T@ np.array([centeredX_data[i,:]])\n",
    "    covX_data /= len(covX_data)\n",
    "\n",
    "    eigenValues, eigenVectors = np.linalg.eig(covX_data)\n",
    "    idx = eigenValues.argsort()[::-1] \n",
    "    eigenVectors = eigenVectors[:,idx]\n",
    "\n",
    "    neededEigenVectors = []\n",
    "    for idx, val in enumerate(eigenValues):\n",
    "        if (sum(eigenValues[0:idx])/sum(eigenValues))>0.7:\n",
    "            neededEigenVectors = eigenVectors[:,0:idx]\n",
    "            break\n",
    "\n",
    "    reconstructX_data = centeredX_data@neededEigenVectors\n",
    "    print('reduced dimensions are ')\n",
    "    print(reconstructX_data.shape)\n",
    "    return reconstructX_data"
   ]
  },
  {
   "cell_type": "code",
   "execution_count": 99,
   "metadata": {},
   "outputs": [],
   "source": [
    "def normsquare(a,b):    \n",
    "    a_min_b = a - b\n",
    "    return sum((a - b)**2)\n",
    "    #return (np.sum(np.square(a_min_b)))\n",
    "    #return np.einsum('ij,ij->i', a_min_b, a_min_b)"
   ]
  },
  {
   "cell_type": "code",
   "execution_count": 104,
   "metadata": {},
   "outputs": [],
   "source": [
    "class SMCSVM:\n",
    "    def __init__(self):\n",
    "        self.kernel = 'rbf'\n",
    "        self.C=10\n",
    "        self.degree = 1\n",
    "        self.sigma=1.0\n",
    "        self.alphas2=None\n",
    "        self.fullXmatrix=None\n",
    "        self.IntermXmatrix=None\n",
    "        self.train_X_data = None\n",
    "        self.num_classes = None\n",
    "    \n",
    "    def fit(self, X_data, Y_label,C=10,kernel='rbf',degree=1,sigma=1.0):\n",
    "        self.kernel = kernel\n",
    "        self.C= C\n",
    "        self.degree = degree\n",
    "        self.sigma= sigma \n",
    "        self.train_X_data = X_data\n",
    "        X = X_data\n",
    "        trainLabelVector = Y_label\n",
    "        #fullXmatrix =[]\n",
    "        num_classes = len(np.unique(Y_label))\n",
    "        self.num_classes = num_classes\n",
    "        #print(trainLabelVector.shape)\n",
    "\n",
    "        fullXmatrix = np.zeros(((X_data.shape[0]*(num_classes-1)),num_classes*((X_data.shape[1])+1)))\n",
    "\n",
    "        #for i in tqdm(range(0,(X_data.shape[0]*(num_class-1)))):\n",
    "\n",
    "        count5 = 0\n",
    "        print('\\n Calculating fullXmatrix')\n",
    "        for i in tqdm(range(0,X.shape[0])):\n",
    "            for p in range(0,num_classes):\n",
    "                if(trainLabelVector[i]!=p):   \n",
    "                    for j in range(0,num_classes):\n",
    "                        if(j==trainLabelVector[i]):\n",
    "                            fullXmatrix[count5,(j*(X_data.shape[1]+1)):((j+1)*(X_data.shape[1]+1))-1] = X[i,:]\n",
    "                            fullXmatrix[count5,((j+1)*(X_data.shape[1]+1))-1] = 1.0\n",
    "                        elif(j==p):\n",
    "                            fullXmatrix[count5,(j*(X_data.shape[1]+1)):((j+1)*(X_data.shape[1]+1))-1] = -1*X[i,:]\n",
    "                            fullXmatrix[count5,((j+1)*(X_data.shape[1]+1))-1] = -1.0\n",
    "                    count5 += 1\n",
    "                    #print(count5)\n",
    "        #print(fullXmatrix.shape)\n",
    "        m = fullXmatrix.shape[0]\n",
    "        M1 = sparse.csr_matrix(fullXmatrix) \n",
    "        IntermXmatrix = np.zeros(((X_data.shape[0]*(num_classes-1)),num_classes))\n",
    "        #if(kernel=='polynomial'):   \n",
    "        #    H = sparse.csr_matrix.dot(M1,M1.T) \n",
    "        #    H = (1+H.todense())**degree   \n",
    "            #H,IntermXmatrix = self.getKernelizedProduct(X_data,Y_label,kernel,sigma)\n",
    "        if(kernel=='linear'):\n",
    "            H = sparse.csr_matrix.dot(M1,M1.T)\n",
    "        else:\n",
    "            H,IntermXmatrix = self.getKernelizedProduct(X_data,Y_label,kernel,sigma,degree)        \n",
    "\n",
    "        from cvxopt import matrix as cvxopt_matrix\n",
    "        from cvxopt import solvers as cvxopt_solvers\n",
    "        if(kernel=='linear'):\n",
    "            P = cvxopt_matrix(H.todense())\n",
    "        else:\n",
    "            P = cvxopt_matrix(H)\n",
    "        q = cvxopt_matrix(-1*np.ones((m, 1)))\n",
    "        G = cvxopt_matrix(np.vstack((np.eye(m)*-1,np.eye(m))))\n",
    "        h = cvxopt_matrix(np.hstack((np.zeros(m), np.ones(m) * C)))\n",
    "        opts = {'maxiters' : 30,'solver':'mosek'}\n",
    "        sol = cvxopt_solvers.qp(P, q, G, h ,options = opts)\n",
    "        alphas2 = np.array(sol['x']) \n",
    "        #w = fullXmatrix.T@alphas2\n",
    "        #wForEachLabel = {}\n",
    "        #for i in range(0,num_classes):\n",
    "            #wForEachLabel[i] = np.array_split(w,num_classes)[i]\n",
    "        self.alphas2=alphas2\n",
    "        self.fullXmatrix=fullXmatrix\n",
    "        self.IntermXmatrix=IntermXmatrix\n",
    "        \n",
    "        #return alphas2,fullXmatrix,IntermXmatrix\n",
    "    def predict(self,val_X_data):\n",
    "    #def predict(train_X_data,val_X_data,IntermXmatrix,num_classes,alphas2,fullXmatrix,kernel,degree,sigma):\n",
    "        num_classes = self.num_classes\n",
    "        train_X_data = self.train_X_data\n",
    "        kernel = self.kernel\n",
    "        degree = self.degree\n",
    "        sigma = self.sigma\n",
    "        alphas2=self.alphas2\n",
    "        fullXmatrix=self.fullXmatrix\n",
    "        IntermXmatrix=self.IntermXmatrix\n",
    "\n",
    "        predictedLabelVector = []\n",
    "        if(kernel == 'linear'):\n",
    "            w = fullXmatrix.T@alphas2\n",
    "            wForEachLabel = {}\n",
    "            for i in range(0,num_classes):\n",
    "                wForEachLabel[i] = np.array_split(w,num_classes)[i]\n",
    "            print('\\n Calculating prediction values')\n",
    "            for i in tqdm(range(0,val_X_data.shape[0])):\n",
    "                scoresForEachLabel = []\n",
    "                for j in range(0,len(wForEachLabel)):\n",
    "                    score = (wForEachLabel[j].T@np.append(val_X_data[i,:],1.0).reshape(-1,1))\n",
    "                    scoresForEachLabel.append(score)\n",
    "                maxScoreLabel = np.argmax(scoresForEachLabel)\n",
    "                predictedLabelVector.append(maxScoreLabel)\n",
    "        elif(kernel == 'polynomial'):\n",
    "            print('\\n Calculating prediction values')\n",
    "            for i in tqdm(range(0,val_X_data.shape[0])):\n",
    "                #tempMatrix1 = np.zeros((num_classes*(val_X_data.shape[1]+1),num_classes))\n",
    "                #for j in range(0,num_classes):\n",
    "                #    tempMatrix1[j*(val_X_data.shape[1]+1):(j+1)*(val_X_data.shape[1]+1),j] = np.append(val_X_data[i,:],1.0)\n",
    "                #scoresForEachLabel = (alphas2.T)@((1+(fullXmatrix@tempMatrix1))**degree)\n",
    "                scoresForEachLabel = (alphas2.T)@(self.getKernelizedProductforPrediction(train_X_data,val_X_data,IntermXmatrix,i,num_classes,kernel,sigma,degree))\n",
    "                maxScoreLabel = np.argmax(scoresForEachLabel)\n",
    "                predictedLabelVector.append(maxScoreLabel)\n",
    "        elif(kernel == 'rbf'):\n",
    "            print('\\n Calculating prediction values')\n",
    "            for i in tqdm(range(0,val_X_data.shape[0])):\n",
    "                #tempMatrix1 = np.zeros((num_classes*(val_X_data.shape[1]+1),num_classes))\n",
    "                #for j in range(0,num_classes):\n",
    "                    #tempMatrix1[j*(val_X_data.shape[1]+1):(j+1)*(val_X_data.shape[1]+1),j] = np.append(val_X_data[i,:],1.0)\n",
    "                scoresForEachLabel = (alphas2.T)@(self.getKernelizedProductforPrediction(train_X_data,val_X_data,IntermXmatrix,i,num_classes,kernel,sigma,degree))\n",
    "                maxScoreLabel = np.argmax(scoresForEachLabel)\n",
    "                predictedLabelVector.append(maxScoreLabel)\n",
    "        return predictedLabelVector\n",
    "    def getKernelizedProductforPrediction(self,X_data,val_X_data,IntermXmatrix,currentValIndex,num_classes,kernel,sigma,degree):\n",
    "        X = X_data\n",
    "        m = (X_data.shape[0]*(num_classes-1))\n",
    "        H = np.zeros((m,num_classes))    \n",
    "        matrix2 = (currentValIndex+1)*np.eye(num_classes)\n",
    "        tempCoeff = (1/(X.shape[1]+1))\n",
    "        \n",
    "        if(kernel == 'polynomial'): \n",
    "            for i in (range(0,m)):\n",
    "                for j in range(0,num_classes):\n",
    "                    count1 = 0\n",
    "                    for k in range(0,num_classes):\n",
    "                        if(count1==2):\n",
    "                            break\n",
    "                        else:\n",
    "                            temp3 = int(IntermXmatrix[i,k])\n",
    "                            temp4 = int(matrix2[k,j])\n",
    "                            if(temp3>0):\n",
    "                                count1+=1\n",
    "                                if(temp4>0):                             \n",
    "                                    H[i,j] += (1+((1/tempCoeff)*np.dot(np.append(X[temp3-1,:],1.0),np.append(val_X_data[temp4-1,:],1.0))))**degree\n",
    "                            elif(temp3<0):\n",
    "                                count1+=1\n",
    "                                if(temp4>0):\n",
    "                                    H[i,j] += (1+((1/tempCoeff)*np.dot(np.append(val_X_data[temp4-1,:],1.0),np.append(-1*X[-temp3-1,:],-1.0))))**degree\n",
    "        \n",
    "\n",
    "        elif(kernel == 'rbf'): \n",
    "            for i in (range(0,m)):\n",
    "                for j in range(0,num_classes):\n",
    "                    count1 = 0\n",
    "                    for k in range(0,num_classes):\n",
    "                        if(count1==2):\n",
    "                            break\n",
    "                        else:\n",
    "                            temp3 = int(IntermXmatrix[i,k])\n",
    "                            temp4 = int(matrix2[k,j])\n",
    "                            if(temp3>0):\n",
    "                                count1+=1\n",
    "                                if(temp4>0):                             \n",
    "                                    H[i,j] += np.exp(-1*(np.linalg.norm(X[temp3-1,:]-val_X_data[temp4-1,:])**2)/(2*sigma**2))                        \n",
    "                            elif(temp3<0):\n",
    "                                count1+=1\n",
    "                                if(temp4>0):\n",
    "                                    H[i,j] += np.exp(-1*(np.linalg.norm(np.append(val_X_data[temp4-1,:],1.0)-np.append(-1*X[-temp3-1,:],-1.0))**2)/(2*sigma**2))                    \n",
    "\n",
    "        return H      \n",
    "    def getKernelizedProduct(self,X_data,Y_label,kernel,sigma,degree):\n",
    "        X = X_data\n",
    "        trainLabelVector = Y_label\n",
    "        num_classes = len(np.unique(Y_label))\n",
    "        IntermXmatrix = np.zeros(((X_data.shape[0]*(num_classes-1)),num_classes))\n",
    "        count6 = 0\n",
    "        m = (X_data.shape[0]*(num_classes-1))\n",
    "        nonZeroColumnIndicesAndValuesInIntermXmatrix = []# np.zeros((m,4)) \n",
    "        print('\\n Calculating Kernalized Product')\n",
    "        \n",
    "        for i in tqdm(range(0,X.shape[0])):\n",
    "            for p in range(0,num_classes):\n",
    "                if(trainLabelVector[i]!=p):   \n",
    "                    tempArray = []\n",
    "                    for j in range(0,num_classes):\n",
    "                        if(j==trainLabelVector[i]):\n",
    "                            tempArray.append(j)\n",
    "                            tempArray.append(i+1)\n",
    "                            IntermXmatrix[count6,j] = i+1\n",
    "                        elif(j==p):\n",
    "                            tempArray.append(j)\n",
    "                            tempArray.append(-(i+1))\n",
    "                            IntermXmatrix[count6,j] = -(i+1)\n",
    "                    count6 += 1\n",
    "                    nonZeroColumnIndicesAndValuesInIntermXmatrix.append(tempArray)\n",
    "                    \n",
    "        #nonZeroColumnIndicesAndValuesInIntermXmatrix = np.array(nonZeroColumnIndicesAndValuesInIntermXmatrix)\n",
    "        matrix2 = IntermXmatrix.T\n",
    "        M2 = scipy.sparse.coo_matrix(IntermXmatrix)\n",
    "        M3 = scipy.sparse.coo_matrix(IntermXmatrix.T)\n",
    "        m = (X_data.shape[0]*(num_classes-1))\n",
    "        H = np.zeros((m,m))\n",
    "        tempCoeff = (1/(X.shape[1]+1))\n",
    "        #tempCoeff = 2\n",
    "        \n",
    "        \n",
    "        if(kernel == 'rbf'):\n",
    "            matrix2 = matrix2.tolist()\n",
    "            #X = X.tolist()\n",
    "            print('\\n Calculating Kernalized Product')\n",
    "            for i in tqdm(range(0,m)):\n",
    "                for j in range(0,i+1):\n",
    "                    #nonZeroColumnIndicesAndValuesInIntermXmatrix[i][0]\n",
    "                    #nonZeroIndicesLocation = np.nonzero(IntermXmatrix[i,:])\n",
    "                    #temp8 = IntermXmatrix[i,:][nonZeroIndicesLocation][0]\n",
    "                    temp8 = nonZeroColumnIndicesAndValuesInIntermXmatrix[i][1]\n",
    "                    #temp9 = IntermXmatrix[i,:][nonZeroIndicesLocation][1]\n",
    "                    temp9 =nonZeroColumnIndicesAndValuesInIntermXmatrix[i][3]\n",
    "                    #locOftemp8 = nonZeroIndicesLocation[0]\n",
    "                    locOftemp8 = nonZeroColumnIndicesAndValuesInIntermXmatrix[i][0]\n",
    "                    #locOftemp9 = nonZeroIndicesLocation[1]\n",
    "                    locOftemp9 = nonZeroColumnIndicesAndValuesInIntermXmatrix[i][2]\n",
    "                    temp10 = matrix2[locOftemp8][j]\n",
    "                    temp11 = matrix2[locOftemp9][j]\n",
    "                    #temp10zero = 1\n",
    "                    #temp11zero = 1\n",
    "                    #if(temp10 == 0):\n",
    "                        #temp10zero = 0\n",
    "                    #if(temp11 == 0):\n",
    "                        #temp11zero = 0\n",
    "                    temp8Pos = 1\n",
    "                    temp9Pos = 1\n",
    "                    temp10Pos = 1\n",
    "                    temp11Pos = 1\n",
    "                    \n",
    "                    if(temp8 < 0):\n",
    "                        temp8Pos = -1\n",
    "                    if(temp9 < 0):\n",
    "                        temp9Pos = -1\n",
    "                    if(temp10 < 0):\n",
    "                        temp10Pos = -1\n",
    "                    if(temp11 < 0):\n",
    "                        temp11Pos = -1\n",
    "                        \n",
    "                    if(temp10 != 0):\n",
    "                        #H[i,j] += (2.718281828459045)**(-1*normsquare(np.append(temp8Pos*X[int(temp8Pos*temp8)-1,:],temp8Pos),np.append(temp10Pos*X[int(temp10Pos*temp10)-1,:],temp10Pos))/(2*sigma**2))                       \n",
    "                        H[i,j] += (2.718281828459045)**(-1*(np.linalg.norm(np.append(temp8Pos*X[int(temp8Pos*temp8)-1,:],temp8Pos)-np.append(temp10Pos*X[int(temp10Pos*temp10)-1,:],temp10Pos))**2)/(2*sigma**2))\n",
    "                    if(temp11 != 0):\n",
    "                        #H[i,j] += (2.718281828459045)**(-1*normsquare(np.append(temp9Pos*X[int(temp9Pos*temp9)-1,:],temp9Pos),np.append(temp11Pos*X[int(temp11Pos*temp11)-1,:],temp11Pos))/(2*sigma**2))\n",
    "                        H[i,j] += (2.718281828459045)** (-1*(np.linalg.norm(np.append(temp9Pos*X[int(temp9Pos*temp9)-1,:],temp9Pos)-np.append(temp11Pos*X[int(temp11Pos*temp11)-1,:],temp11Pos))**2)/(2*sigma**2))    \n",
    "\n",
    "        \n",
    "        elif(kernel == 'polynomial'):\n",
    "            print('\\n Calculating Kernalized Product')\n",
    "            for i in tqdm(range(0,m)):\n",
    "                for j in range(0,i+1):\n",
    "                    count1 = 0\n",
    "                    #count2 = 0\n",
    "                    for k in range(0,IntermXmatrix.shape[1]):\n",
    "                        if(count1==2):\n",
    "                            break\n",
    "                        else:\n",
    "                            temp3 = int(IntermXmatrix[i,k])\n",
    "                            temp4 = int(matrix2[k,j])\n",
    "                            #print(temp3,temp4)\n",
    "                            if(temp3>0):\n",
    "                                count1+=1\n",
    "                                if(temp4>0): \n",
    "                                    H[i,j] += ((1+((1/tempCoeff)*np.dot(np.append(X[temp3-1,:],1.0),np.append(X[temp4-1,:],1.0))))**degree)\n",
    "                                elif(temp4<0):                                    \n",
    "                                    H[i,j] += ((1+((1/tempCoeff)*np.dot(np.append(X[temp3-1,:],1.0),np.append(-1*X[-temp4-1,:],-1.0))))**degree)\n",
    "                            elif(temp3<0):\n",
    "                                count1+=1\n",
    "                                if(temp4>0):\n",
    "                                    H[i,j] += ((1+((1/tempCoeff)*np.dot(np.append(X[temp4-1,:],1.0),np.append(-1*X[-temp3-1,:],-1.0))))**degree)\n",
    "                                elif(temp4<0):\n",
    "                                    H[i,j] += ((1+((1/tempCoeff)*np.dot(np.append(-1*X[-temp4-1,:],-1.0),np.append(-1*X[-temp3-1,:],-1.0))))**degree)\n",
    "              \n",
    "\n",
    "        elif(kernel == 'kartheek'):\n",
    "            print('\\n Calculating Kernalized Product')\n",
    "            for i in tqdm(range(0,m)):\n",
    "                for j in range(0,i+1):\n",
    "                    count1 = 0\n",
    "                    #count2 = 0\n",
    "                    for k in range(0,IntermXmatrix.shape[1]):\n",
    "                        if(count1==2):\n",
    "                            break\n",
    "                        else:\n",
    "                            temp3 = int(IntermXmatrix[i,k])\n",
    "                            temp4 = int(matrix2[k,j])\n",
    "                            #print(temp3,temp4)\n",
    "                            if(temp3>0):\n",
    "                                count1+=1\n",
    "                                if(temp4>0):                             \n",
    "                                    H[i,j] += np.exp(-1*(np.linalg.norm(X[temp3-1,:]-X[temp4-1,:])**2)/(2*sigma**2))\n",
    "                                elif(temp4<0):\n",
    "                                    H[i,j] += np.exp(-1*(np.linalg.norm(np.append(X[temp3-1,:],1.0)-np.append(-1*X[-temp4-1,:],-1.0))**2)/(2*sigma**2))\n",
    "                            elif(temp3<0):\n",
    "                                count1+=1\n",
    "                                if(temp4>0):\n",
    "                                    H[i,j] += np.exp(-1*(np.linalg.norm(np.append(X[temp4-1,:],1.0)-np.append(-1*X[-temp3-1,:],-1.0))**2)/(2*sigma**2))                    \n",
    "                                elif(temp4<0):\n",
    "                                    H[i,j] += np.exp(-1*(np.linalg.norm(-1*X[-temp3-1,:]+X[-temp4-1,:])**2)/(2*sigma**2))\n",
    "        print('\\n Calculating Kernalized Product')\n",
    "        for i in tqdm(range(0,m)):\n",
    "            for j in range(0,i+1):\n",
    "                if(j>i):\n",
    "                    H[i,j]=H[j,i]                 \n",
    "        #print(H.shape)        \n",
    "\n",
    "        return H,IntermXmatrix"
   ]
  },
  {
   "cell_type": "markdown",
   "metadata": {},
   "source": [
    "WINE DATASET"
   ]
  },
  {
   "cell_type": "code",
   "execution_count": 101,
   "metadata": {},
   "outputs": [
    {
     "name": "stdout",
     "output_type": "stream",
     "text": [
      "\n",
      " Calculating fullXmatrix\n"
     ]
    },
    {
     "data": {
      "application/vnd.jupyter.widget-view+json": {
       "model_id": "0680bcb7a9484d3a925f9bccd983a393",
       "version_major": 2,
       "version_minor": 0
      },
      "text/plain": [
       "HBox(children=(IntProgress(value=0, max=143), HTML(value='')))"
      ]
     },
     "metadata": {},
     "output_type": "display_data"
    },
    {
     "name": "stdout",
     "output_type": "stream",
     "text": [
      "\n",
      " Calculating Kernalized Product\n"
     ]
    },
    {
     "data": {
      "application/vnd.jupyter.widget-view+json": {
       "model_id": "af7ec0ba31544fd299f0c9368d6e0a93",
       "version_major": 2,
       "version_minor": 0
      },
      "text/plain": [
       "HBox(children=(IntProgress(value=0, max=143), HTML(value='')))"
      ]
     },
     "metadata": {},
     "output_type": "display_data"
    },
    {
     "name": "stdout",
     "output_type": "stream",
     "text": [
      "\n",
      " Calculating Kernalized Product\n"
     ]
    },
    {
     "data": {
      "application/vnd.jupyter.widget-view+json": {
       "model_id": "ffca93ce65484d30ad5754cc2e10f7b0",
       "version_major": 2,
       "version_minor": 0
      },
      "text/plain": [
       "HBox(children=(IntProgress(value=0, max=286), HTML(value='')))"
      ]
     },
     "metadata": {},
     "output_type": "display_data"
    },
    {
     "name": "stdout",
     "output_type": "stream",
     "text": [
      "\n",
      " Calculating Kernalized Product\n"
     ]
    },
    {
     "data": {
      "application/vnd.jupyter.widget-view+json": {
       "model_id": "5a9b0ee9c1f3466383425c1d65cc4bc8",
       "version_major": 2,
       "version_minor": 0
      },
      "text/plain": [
       "HBox(children=(IntProgress(value=0, max=286), HTML(value='')))"
      ]
     },
     "metadata": {},
     "output_type": "display_data"
    },
    {
     "name": "stdout",
     "output_type": "stream",
     "text": [
      "     pcost       dcost       gap    pres   dres\n",
      " 0:  1.4472e+03 -4.9364e+03  6e+03  3e-17  1e-15\n",
      " 1:  1.6230e+02 -4.8632e+02  6e+02  2e-16  1e-15\n",
      " 2: -3.2852e+01 -1.2128e+02  9e+01  2e-16  8e-16\n",
      " 3: -4.7440e+01 -5.4771e+01  7e+00  2e-16  2e-16\n",
      " 4: -4.7667e+01 -4.7769e+01  1e-01  1e-16  9e-17\n",
      " 5: -4.7667e+01 -4.7668e+01  1e-03  3e-16  1e-16\n",
      " 6: -4.7667e+01 -4.7667e+01  1e-05  2e-16  1e-16\n",
      "Optimal solution found.\n",
      "\n",
      " Time taken for training in seconds:  2.875321388244629\n",
      "\n",
      " Calculating prediction values\n"
     ]
    },
    {
     "data": {
      "application/vnd.jupyter.widget-view+json": {
       "model_id": "9e85c02b8f1845418ab0592d63af78f8",
       "version_major": 2,
       "version_minor": 0
      },
      "text/plain": [
       "HBox(children=(IntProgress(value=0, max=143), HTML(value='')))"
      ]
     },
     "metadata": {},
     "output_type": "display_data"
    },
    {
     "data": {
      "text/html": [
       "<div>\n",
       "<style scoped>\n",
       "    .dataframe tbody tr th:only-of-type {\n",
       "        vertical-align: middle;\n",
       "    }\n",
       "\n",
       "    .dataframe tbody tr th {\n",
       "        vertical-align: top;\n",
       "    }\n",
       "\n",
       "    .dataframe thead th {\n",
       "        text-align: right;\n",
       "    }\n",
       "</style>\n",
       "<table border=\"1\" class=\"dataframe\">\n",
       "  <thead>\n",
       "    <tr style=\"text-align: right;\">\n",
       "      <th>col_0</th>\n",
       "      <th>0</th>\n",
       "      <th>1</th>\n",
       "      <th>2</th>\n",
       "    </tr>\n",
       "    <tr>\n",
       "      <th>row_0</th>\n",
       "      <th></th>\n",
       "      <th></th>\n",
       "      <th></th>\n",
       "    </tr>\n",
       "  </thead>\n",
       "  <tbody>\n",
       "    <tr>\n",
       "      <th>0</th>\n",
       "      <td>50</td>\n",
       "      <td>0</td>\n",
       "      <td>0</td>\n",
       "    </tr>\n",
       "    <tr>\n",
       "      <th>1</th>\n",
       "      <td>0</td>\n",
       "      <td>52</td>\n",
       "      <td>0</td>\n",
       "    </tr>\n",
       "    <tr>\n",
       "      <th>2</th>\n",
       "      <td>0</td>\n",
       "      <td>0</td>\n",
       "      <td>41</td>\n",
       "    </tr>\n",
       "  </tbody>\n",
       "</table>\n",
       "</div>"
      ],
      "text/plain": [
       "col_0   0   1   2\n",
       "row_0            \n",
       "0      50   0   0\n",
       "1       0  52   0\n",
       "2       0   0  41"
      ]
     },
     "execution_count": 101,
     "metadata": {},
     "output_type": "execute_result"
    }
   ],
   "source": [
    "from sklearn.datasets import load_wine\n",
    "Givendata = load_wine()\n",
    "ran = np.random.rand(len(Givendata['data'])) < 0.8\n",
    "train_X_data = Givendata['data'][ran]\n",
    "train_Y_data = Givendata['target'][ran]\n",
    "val_X_data = Givendata['data'][~ran]\n",
    "val_Y_data = Givendata['target'][~ran]\n",
    "kernel = 'rbf'\n",
    "degree = 4\n",
    "sigma = 0.4\n",
    "C = 10\n",
    "a1 = SMCSVM()\n",
    "#a1.fit()\n",
    "start_time = time.time()\n",
    "a1.fit(train_X_data,train_Y_data,C,kernel,degree,sigma)\n",
    "print('\\n Time taken for training in seconds: ', time.time()-start_time )\n",
    "predictedLabels = a1.predict(train_X_data)\n",
    "conMatrix = pd.crosstab(np.array(predictedLabels).ravel(),train_Y_data.reshape(-1,1).ravel())\n",
    "conMatrix"
   ]
  },
  {
   "cell_type": "markdown",
   "metadata": {},
   "source": [
    "IRIS DATASET"
   ]
  },
  {
   "cell_type": "code",
   "execution_count": 96,
   "metadata": {},
   "outputs": [
    {
     "name": "stdout",
     "output_type": "stream",
     "text": [
      "\n",
      " Calculating fullXmatrix\n"
     ]
    },
    {
     "data": {
      "application/vnd.jupyter.widget-view+json": {
       "model_id": "c3bf0b200042416aa74fa74c8ef7faca",
       "version_major": 2,
       "version_minor": 0
      },
      "text/plain": [
       "HBox(children=(IntProgress(value=0, max=115), HTML(value='')))"
      ]
     },
     "metadata": {},
     "output_type": "display_data"
    },
    {
     "name": "stdout",
     "output_type": "stream",
     "text": [
      "\n",
      " Calculating Kernalized Product\n"
     ]
    },
    {
     "data": {
      "application/vnd.jupyter.widget-view+json": {
       "model_id": "c0b002b5726249bc9b4b87a4020e6f15",
       "version_major": 2,
       "version_minor": 0
      },
      "text/plain": [
       "HBox(children=(IntProgress(value=0, max=115), HTML(value='')))"
      ]
     },
     "metadata": {},
     "output_type": "display_data"
    },
    {
     "name": "stdout",
     "output_type": "stream",
     "text": [
      "\n",
      " Calculating Kernalized Product\n"
     ]
    },
    {
     "data": {
      "application/vnd.jupyter.widget-view+json": {
       "model_id": "52fcb013aaf6411e9f97c6e0a14be5d1",
       "version_major": 2,
       "version_minor": 0
      },
      "text/plain": [
       "HBox(children=(IntProgress(value=0, max=230), HTML(value='')))"
      ]
     },
     "metadata": {},
     "output_type": "display_data"
    },
    {
     "name": "stdout",
     "output_type": "stream",
     "text": [
      "\n",
      " Calculating Kernalized Product\n"
     ]
    },
    {
     "data": {
      "application/vnd.jupyter.widget-view+json": {
       "model_id": "669e96fe9f824ceea7a9e5ca36a31132",
       "version_major": 2,
       "version_minor": 0
      },
      "text/plain": [
       "HBox(children=(IntProgress(value=0, max=230), HTML(value='')))"
      ]
     },
     "metadata": {},
     "output_type": "display_data"
    },
    {
     "name": "stdout",
     "output_type": "stream",
     "text": [
      "     pcost       dcost       gap    pres   dres\n",
      " 0:  4.5452e+02 -5.1798e+03  1e+04  2e-01  4e-15\n",
      " 1:  2.4747e+02 -5.1588e+02  8e+02  6e-03  2e-15\n",
      " 2:  2.6061e+01 -7.5205e+01  1e+02  2e-16  3e-15\n",
      " 3: -4.9037e+00 -1.8381e+01  1e+01  2e-16  1e-15\n",
      " 4: -7.5505e+00 -9.0699e+00  2e+00  2e-16  4e-16\n",
      " 5: -7.8953e+00 -8.2773e+00  4e-01  2e-16  2e-16\n",
      " 6: -8.0225e+00 -8.0994e+00  8e-02  1e-16  2e-16\n",
      " 7: -8.0435e+00 -8.0575e+00  1e-02  2e-16  2e-16\n",
      " 8: -8.0480e+00 -8.0486e+00  6e-04  2e-16  2e-16\n",
      " 9: -8.0482e+00 -8.0482e+00  3e-05  2e-16  2e-16\n",
      "10: -8.0482e+00 -8.0482e+00  5e-07  2e-16  2e-16\n",
      "Optimal solution found.\n",
      "\n",
      " Time taken for training in seconds:  1.9268863201141357\n",
      "\n",
      " Calculating prediction values\n"
     ]
    },
    {
     "data": {
      "application/vnd.jupyter.widget-view+json": {
       "model_id": "6afe0e077f5349eeb8921ab171095617",
       "version_major": 2,
       "version_minor": 0
      },
      "text/plain": [
       "HBox(children=(IntProgress(value=0, max=115), HTML(value='')))"
      ]
     },
     "metadata": {},
     "output_type": "display_data"
    },
    {
     "data": {
      "text/html": [
       "<div>\n",
       "<style scoped>\n",
       "    .dataframe tbody tr th:only-of-type {\n",
       "        vertical-align: middle;\n",
       "    }\n",
       "\n",
       "    .dataframe tbody tr th {\n",
       "        vertical-align: top;\n",
       "    }\n",
       "\n",
       "    .dataframe thead th {\n",
       "        text-align: right;\n",
       "    }\n",
       "</style>\n",
       "<table border=\"1\" class=\"dataframe\">\n",
       "  <thead>\n",
       "    <tr style=\"text-align: right;\">\n",
       "      <th>col_0</th>\n",
       "      <th>0</th>\n",
       "      <th>1</th>\n",
       "      <th>2</th>\n",
       "    </tr>\n",
       "    <tr>\n",
       "      <th>row_0</th>\n",
       "      <th></th>\n",
       "      <th></th>\n",
       "      <th></th>\n",
       "    </tr>\n",
       "  </thead>\n",
       "  <tbody>\n",
       "    <tr>\n",
       "      <th>0</th>\n",
       "      <td>37</td>\n",
       "      <td>0</td>\n",
       "      <td>0</td>\n",
       "    </tr>\n",
       "    <tr>\n",
       "      <th>1</th>\n",
       "      <td>0</td>\n",
       "      <td>42</td>\n",
       "      <td>1</td>\n",
       "    </tr>\n",
       "    <tr>\n",
       "      <th>2</th>\n",
       "      <td>0</td>\n",
       "      <td>1</td>\n",
       "      <td>34</td>\n",
       "    </tr>\n",
       "  </tbody>\n",
       "</table>\n",
       "</div>"
      ],
      "text/plain": [
       "col_0   0   1   2\n",
       "row_0            \n",
       "0      37   0   0\n",
       "1       0  42   1\n",
       "2       0   1  34"
      ]
     },
     "execution_count": 96,
     "metadata": {},
     "output_type": "execute_result"
    }
   ],
   "source": [
    "from sklearn.datasets import load_iris\n",
    "Givendata =load_iris()\n",
    "ran = np.random.rand(len(Givendata['data'])) < 0.8\n",
    "train_X_data = Givendata['data'][ran]\n",
    "train_Y_data = Givendata['target'][ran]\n",
    "val_X_data = Givendata['data'][~ran]\n",
    "val_Y_data = Givendata['target'][~ran]\n",
    "kernel = 'rbf'\n",
    "degree = 4\n",
    "sigma = 0.4\n",
    "C = 10\n",
    "a1 = SMCSVM()\n",
    "#a1.fit()\n",
    "start_time = time.time()\n",
    "a1.fit(train_X_data,train_Y_data,C,kernel,degree,sigma)\n",
    "print('\\n Time taken for training in seconds: ', time.time()-start_time )\n",
    "predictedLabels = a1.predict(train_X_data)\n",
    "conMatrix = pd.crosstab(np.array(predictedLabels).ravel(),train_Y_data.reshape(-1,1).ravel())\n",
    "conMatrix"
   ]
  },
  {
   "cell_type": "markdown",
   "metadata": {},
   "source": [
    "CANCER DATASET"
   ]
  },
  {
   "cell_type": "code",
   "execution_count": 106,
   "metadata": {
    "scrolled": true
   },
   "outputs": [
    {
     "name": "stdout",
     "output_type": "stream",
     "text": [
      "\n",
      " Calculating fullXmatrix\n"
     ]
    },
    {
     "data": {
      "application/vnd.jupyter.widget-view+json": {
       "model_id": "d6471d4b78504e15886ca9a569dff80c",
       "version_major": 2,
       "version_minor": 0
      },
      "text/plain": [
       "HBox(children=(IntProgress(value=0, max=447), HTML(value='')))"
      ]
     },
     "metadata": {},
     "output_type": "display_data"
    },
    {
     "name": "stdout",
     "output_type": "stream",
     "text": [
      "\n",
      " Calculating Kernalized Product\n"
     ]
    },
    {
     "data": {
      "application/vnd.jupyter.widget-view+json": {
       "model_id": "fad5be17ab1d4fce848292094ad92ec3",
       "version_major": 2,
       "version_minor": 0
      },
      "text/plain": [
       "HBox(children=(IntProgress(value=0, max=447), HTML(value='')))"
      ]
     },
     "metadata": {},
     "output_type": "display_data"
    },
    {
     "name": "stdout",
     "output_type": "stream",
     "text": [
      "\n",
      " Calculating Kernalized Product\n"
     ]
    },
    {
     "data": {
      "application/vnd.jupyter.widget-view+json": {
       "model_id": "eac27da334ec43e3b0cde9901dcfee29",
       "version_major": 2,
       "version_minor": 0
      },
      "text/plain": [
       "HBox(children=(IntProgress(value=0, max=447), HTML(value='')))"
      ]
     },
     "metadata": {},
     "output_type": "display_data"
    },
    {
     "name": "stdout",
     "output_type": "stream",
     "text": [
      "\n",
      " Calculating Kernalized Product\n"
     ]
    },
    {
     "data": {
      "application/vnd.jupyter.widget-view+json": {
       "model_id": "df3d991cda5d42009b20437439f12170",
       "version_major": 2,
       "version_minor": 0
      },
      "text/plain": [
       "HBox(children=(IntProgress(value=0, max=447), HTML(value='')))"
      ]
     },
     "metadata": {},
     "output_type": "display_data"
    },
    {
     "name": "stdout",
     "output_type": "stream",
     "text": [
      "     pcost       dcost       gap    pres   dres\n",
      " 0:  2.1512e+03 -7.8504e+03  1e+04  0e+00  0e+00\n",
      " 1:  2.0363e+02 -8.4729e+02  1e+03  9e-17  9e-16\n",
      " 2: -9.2760e+01 -2.3273e+02  1e+02  4e-16  2e-16\n",
      " 3: -1.1159e+02 -1.2086e+02  9e+00  2e-17  7e-18\n",
      " 4: -1.1175e+02 -1.1186e+02  1e-01  3e-17  3e-17\n",
      " 5: -1.1175e+02 -1.1175e+02  1e-03  3e-16  4e-19\n",
      " 6: -1.1175e+02 -1.1175e+02  1e-05  5e-17  1e-18\n",
      "Optimal solution found.\n",
      "\n",
      " Time taken for training in seconds:  6.27635931968689\n",
      "\n",
      " Calculating prediction values\n"
     ]
    },
    {
     "data": {
      "application/vnd.jupyter.widget-view+json": {
       "model_id": "695042ee1b1a49b781be4a9cbe5be6aa",
       "version_major": 2,
       "version_minor": 0
      },
      "text/plain": [
       "HBox(children=(IntProgress(value=0, max=447), HTML(value='')))"
      ]
     },
     "metadata": {},
     "output_type": "display_data"
    },
    {
     "data": {
      "text/html": [
       "<div>\n",
       "<style scoped>\n",
       "    .dataframe tbody tr th:only-of-type {\n",
       "        vertical-align: middle;\n",
       "    }\n",
       "\n",
       "    .dataframe tbody tr th {\n",
       "        vertical-align: top;\n",
       "    }\n",
       "\n",
       "    .dataframe thead th {\n",
       "        text-align: right;\n",
       "    }\n",
       "</style>\n",
       "<table border=\"1\" class=\"dataframe\">\n",
       "  <thead>\n",
       "    <tr style=\"text-align: right;\">\n",
       "      <th>col_0</th>\n",
       "      <th>0</th>\n",
       "      <th>1</th>\n",
       "    </tr>\n",
       "    <tr>\n",
       "      <th>row_0</th>\n",
       "      <th></th>\n",
       "      <th></th>\n",
       "    </tr>\n",
       "  </thead>\n",
       "  <tbody>\n",
       "    <tr>\n",
       "      <th>0</th>\n",
       "      <td>165</td>\n",
       "      <td>0</td>\n",
       "    </tr>\n",
       "    <tr>\n",
       "      <th>1</th>\n",
       "      <td>0</td>\n",
       "      <td>282</td>\n",
       "    </tr>\n",
       "  </tbody>\n",
       "</table>\n",
       "</div>"
      ],
      "text/plain": [
       "col_0    0    1\n",
       "row_0          \n",
       "0      165    0\n",
       "1        0  282"
      ]
     },
     "execution_count": 106,
     "metadata": {},
     "output_type": "execute_result"
    }
   ],
   "source": [
    "from sklearn.datasets import load_breast_cancer\n",
    "Givendata = load_breast_cancer()\n",
    "ran = np.random.rand(len(Givendata['data'])) < 0.8\n",
    "train_X_data = Givendata['data'][ran]\n",
    "train_Y_data = Givendata['target'][ran]\n",
    "val_X_data = Givendata['data'][~ran]\n",
    "val_Y_data = Givendata['target'][~ran]\n",
    "kernel = 'rbf'\n",
    "degree = 4\n",
    "sigma = 0.4\n",
    "C = 10\n",
    "a1 = SMCSVM()\n",
    "#a1.fit()\n",
    "start_time = time.time()\n",
    "a1.fit(train_X_data,train_Y_data,C,kernel,degree,sigma)\n",
    "print('\\n Time taken for training in seconds: ', time.time()-start_time )\n",
    "predictedLabels = a1.predict(train_X_data)\n",
    "conMatrix = pd.crosstab(np.array(predictedLabels).ravel(),train_Y_data.reshape(-1,1).ravel())\n",
    "conMatrix"
   ]
  },
  {
   "cell_type": "markdown",
   "metadata": {},
   "source": [
    "DIGITS DATASET"
   ]
  },
  {
   "cell_type": "code",
   "execution_count": 107,
   "metadata": {},
   "outputs": [
    {
     "name": "stdout",
     "output_type": "stream",
     "text": [
      "reduced dimensions are \n",
      "(1797, 15)\n",
      "\n",
      " Calculating fullXmatrix\n"
     ]
    },
    {
     "data": {
      "application/vnd.jupyter.widget-view+json": {
       "model_id": "a2475245cdfa4410ab05baf241f1cee9",
       "version_major": 2,
       "version_minor": 0
      },
      "text/plain": [
       "HBox(children=(IntProgress(value=0, max=1412), HTML(value='')))"
      ]
     },
     "metadata": {},
     "output_type": "display_data"
    },
    {
     "name": "stdout",
     "output_type": "stream",
     "text": [
      "\n",
      " Calculating Kernalized Product\n"
     ]
    },
    {
     "data": {
      "application/vnd.jupyter.widget-view+json": {
       "model_id": "b3b6bd70f18840e597667198309e947a",
       "version_major": 2,
       "version_minor": 0
      },
      "text/plain": [
       "HBox(children=(IntProgress(value=0, max=1412), HTML(value='')))"
      ]
     },
     "metadata": {},
     "output_type": "display_data"
    },
    {
     "name": "stdout",
     "output_type": "stream",
     "text": [
      "\n",
      " Calculating Kernalized Product\n"
     ]
    },
    {
     "data": {
      "application/vnd.jupyter.widget-view+json": {
       "model_id": "4ec9e2212f6544229b278751530a2fec",
       "version_major": 2,
       "version_minor": 0
      },
      "text/plain": [
       "HBox(children=(IntProgress(value=0, max=12708), HTML(value='')))"
      ]
     },
     "metadata": {},
     "output_type": "display_data"
    },
    {
     "ename": "KeyboardInterrupt",
     "evalue": "",
     "output_type": "error",
     "traceback": [
      "\u001b[1;31m---------------------------------------------------------------------------\u001b[0m",
      "\u001b[1;31mKeyboardInterrupt\u001b[0m                         Traceback (most recent call last)",
      "\u001b[1;32m<ipython-input-107-e8417acff71f>\u001b[0m in \u001b[0;36m<module>\u001b[1;34m\u001b[0m\n\u001b[0;32m     14\u001b[0m \u001b[1;31m#a1.fit()\u001b[0m\u001b[1;33m\u001b[0m\u001b[1;33m\u001b[0m\u001b[1;33m\u001b[0m\u001b[0m\n\u001b[0;32m     15\u001b[0m \u001b[0mstart_time\u001b[0m \u001b[1;33m=\u001b[0m \u001b[0mtime\u001b[0m\u001b[1;33m.\u001b[0m\u001b[0mtime\u001b[0m\u001b[1;33m(\u001b[0m\u001b[1;33m)\u001b[0m\u001b[1;33m\u001b[0m\u001b[1;33m\u001b[0m\u001b[0m\n\u001b[1;32m---> 16\u001b[1;33m \u001b[0ma1\u001b[0m\u001b[1;33m.\u001b[0m\u001b[0mfit\u001b[0m\u001b[1;33m(\u001b[0m\u001b[0mtrain_X_data\u001b[0m\u001b[1;33m,\u001b[0m\u001b[0mtrain_Y_data\u001b[0m\u001b[1;33m,\u001b[0m\u001b[0mC\u001b[0m\u001b[1;33m,\u001b[0m\u001b[0mkernel\u001b[0m\u001b[1;33m,\u001b[0m\u001b[0mdegree\u001b[0m\u001b[1;33m,\u001b[0m\u001b[0msigma\u001b[0m\u001b[1;33m)\u001b[0m\u001b[1;33m\u001b[0m\u001b[1;33m\u001b[0m\u001b[0m\n\u001b[0m\u001b[0;32m     17\u001b[0m \u001b[0mprint\u001b[0m\u001b[1;33m(\u001b[0m\u001b[1;34m'\\n Time taken for training in seconds: '\u001b[0m\u001b[1;33m,\u001b[0m \u001b[0mtime\u001b[0m\u001b[1;33m.\u001b[0m\u001b[0mtime\u001b[0m\u001b[1;33m(\u001b[0m\u001b[1;33m)\u001b[0m\u001b[1;33m-\u001b[0m\u001b[0mstart_time\u001b[0m \u001b[1;33m)\u001b[0m\u001b[1;33m\u001b[0m\u001b[1;33m\u001b[0m\u001b[0m\n\u001b[0;32m     18\u001b[0m \u001b[0mpredictedLabels\u001b[0m \u001b[1;33m=\u001b[0m \u001b[0ma1\u001b[0m\u001b[1;33m.\u001b[0m\u001b[0mpredict\u001b[0m\u001b[1;33m(\u001b[0m\u001b[0mtrain_X_data\u001b[0m\u001b[1;33m)\u001b[0m\u001b[1;33m\u001b[0m\u001b[1;33m\u001b[0m\u001b[0m\n",
      "\u001b[1;32m<ipython-input-104-0ba19006ca72>\u001b[0m in \u001b[0;36mfit\u001b[1;34m(self, X_data, Y_label, C, kernel, degree, sigma)\u001b[0m\n\u001b[0;32m     53\u001b[0m             \u001b[0mH\u001b[0m \u001b[1;33m=\u001b[0m \u001b[0msparse\u001b[0m\u001b[1;33m.\u001b[0m\u001b[0mcsr_matrix\u001b[0m\u001b[1;33m.\u001b[0m\u001b[0mdot\u001b[0m\u001b[1;33m(\u001b[0m\u001b[0mM1\u001b[0m\u001b[1;33m,\u001b[0m\u001b[0mM1\u001b[0m\u001b[1;33m.\u001b[0m\u001b[0mT\u001b[0m\u001b[1;33m)\u001b[0m\u001b[1;33m\u001b[0m\u001b[1;33m\u001b[0m\u001b[0m\n\u001b[0;32m     54\u001b[0m         \u001b[1;32melse\u001b[0m\u001b[1;33m:\u001b[0m\u001b[1;33m\u001b[0m\u001b[1;33m\u001b[0m\u001b[0m\n\u001b[1;32m---> 55\u001b[1;33m             \u001b[0mH\u001b[0m\u001b[1;33m,\u001b[0m\u001b[0mIntermXmatrix\u001b[0m \u001b[1;33m=\u001b[0m \u001b[0mself\u001b[0m\u001b[1;33m.\u001b[0m\u001b[0mgetKernelizedProduct\u001b[0m\u001b[1;33m(\u001b[0m\u001b[0mX_data\u001b[0m\u001b[1;33m,\u001b[0m\u001b[0mY_label\u001b[0m\u001b[1;33m,\u001b[0m\u001b[0mkernel\u001b[0m\u001b[1;33m,\u001b[0m\u001b[0msigma\u001b[0m\u001b[1;33m,\u001b[0m\u001b[0mdegree\u001b[0m\u001b[1;33m)\u001b[0m\u001b[1;33m\u001b[0m\u001b[1;33m\u001b[0m\u001b[0m\n\u001b[0m\u001b[0;32m     56\u001b[0m \u001b[1;33m\u001b[0m\u001b[0m\n\u001b[0;32m     57\u001b[0m         \u001b[1;32mfrom\u001b[0m \u001b[0mcvxopt\u001b[0m \u001b[1;32mimport\u001b[0m \u001b[0mmatrix\u001b[0m \u001b[1;32mas\u001b[0m \u001b[0mcvxopt_matrix\u001b[0m\u001b[1;33m\u001b[0m\u001b[1;33m\u001b[0m\u001b[0m\n",
      "\u001b[1;32m<ipython-input-104-0ba19006ca72>\u001b[0m in \u001b[0;36mgetKernelizedProduct\u001b[1;34m(self, X_data, Y_label, kernel, sigma, degree)\u001b[0m\n\u001b[0;32m    244\u001b[0m                     \u001b[1;32mif\u001b[0m\u001b[1;33m(\u001b[0m\u001b[0mtemp10\u001b[0m \u001b[1;33m!=\u001b[0m \u001b[1;36m0\u001b[0m\u001b[1;33m)\u001b[0m\u001b[1;33m:\u001b[0m\u001b[1;33m\u001b[0m\u001b[1;33m\u001b[0m\u001b[0m\n\u001b[0;32m    245\u001b[0m                         \u001b[1;31m#H[i,j] += (2.718281828459045)**(-1*normsquare(np.append(temp8Pos*X[int(temp8Pos*temp8)-1,:],temp8Pos),np.append(temp10Pos*X[int(temp10Pos*temp10)-1,:],temp10Pos))/(2*sigma**2))\u001b[0m\u001b[1;33m\u001b[0m\u001b[1;33m\u001b[0m\u001b[1;33m\u001b[0m\u001b[0m\n\u001b[1;32m--> 246\u001b[1;33m                         \u001b[0mH\u001b[0m\u001b[1;33m[\u001b[0m\u001b[0mi\u001b[0m\u001b[1;33m,\u001b[0m\u001b[0mj\u001b[0m\u001b[1;33m]\u001b[0m \u001b[1;33m+=\u001b[0m \u001b[1;33m(\u001b[0m\u001b[1;36m2.718281828459045\u001b[0m\u001b[1;33m)\u001b[0m\u001b[1;33m**\u001b[0m\u001b[1;33m(\u001b[0m\u001b[1;33m-\u001b[0m\u001b[1;36m1\u001b[0m\u001b[1;33m*\u001b[0m\u001b[1;33m(\u001b[0m\u001b[0mnp\u001b[0m\u001b[1;33m.\u001b[0m\u001b[0mlinalg\u001b[0m\u001b[1;33m.\u001b[0m\u001b[0mnorm\u001b[0m\u001b[1;33m(\u001b[0m\u001b[0mnp\u001b[0m\u001b[1;33m.\u001b[0m\u001b[0mappend\u001b[0m\u001b[1;33m(\u001b[0m\u001b[0mtemp8Pos\u001b[0m\u001b[1;33m*\u001b[0m\u001b[0mX\u001b[0m\u001b[1;33m[\u001b[0m\u001b[0mint\u001b[0m\u001b[1;33m(\u001b[0m\u001b[0mtemp8Pos\u001b[0m\u001b[1;33m*\u001b[0m\u001b[0mtemp8\u001b[0m\u001b[1;33m)\u001b[0m\u001b[1;33m-\u001b[0m\u001b[1;36m1\u001b[0m\u001b[1;33m,\u001b[0m\u001b[1;33m:\u001b[0m\u001b[1;33m]\u001b[0m\u001b[1;33m,\u001b[0m\u001b[0mtemp8Pos\u001b[0m\u001b[1;33m)\u001b[0m\u001b[1;33m-\u001b[0m\u001b[0mnp\u001b[0m\u001b[1;33m.\u001b[0m\u001b[0mappend\u001b[0m\u001b[1;33m(\u001b[0m\u001b[0mtemp10Pos\u001b[0m\u001b[1;33m*\u001b[0m\u001b[0mX\u001b[0m\u001b[1;33m[\u001b[0m\u001b[0mint\u001b[0m\u001b[1;33m(\u001b[0m\u001b[0mtemp10Pos\u001b[0m\u001b[1;33m*\u001b[0m\u001b[0mtemp10\u001b[0m\u001b[1;33m)\u001b[0m\u001b[1;33m-\u001b[0m\u001b[1;36m1\u001b[0m\u001b[1;33m,\u001b[0m\u001b[1;33m:\u001b[0m\u001b[1;33m]\u001b[0m\u001b[1;33m,\u001b[0m\u001b[0mtemp10Pos\u001b[0m\u001b[1;33m)\u001b[0m\u001b[1;33m)\u001b[0m\u001b[1;33m**\u001b[0m\u001b[1;36m2\u001b[0m\u001b[1;33m)\u001b[0m\u001b[1;33m/\u001b[0m\u001b[1;33m(\u001b[0m\u001b[1;36m2\u001b[0m\u001b[1;33m*\u001b[0m\u001b[0msigma\u001b[0m\u001b[1;33m**\u001b[0m\u001b[1;36m2\u001b[0m\u001b[1;33m)\u001b[0m\u001b[1;33m)\u001b[0m\u001b[1;33m\u001b[0m\u001b[1;33m\u001b[0m\u001b[0m\n\u001b[0m\u001b[0;32m    247\u001b[0m                     \u001b[1;32mif\u001b[0m\u001b[1;33m(\u001b[0m\u001b[0mtemp11\u001b[0m \u001b[1;33m!=\u001b[0m \u001b[1;36m0\u001b[0m\u001b[1;33m)\u001b[0m\u001b[1;33m:\u001b[0m\u001b[1;33m\u001b[0m\u001b[1;33m\u001b[0m\u001b[0m\n\u001b[0;32m    248\u001b[0m                         \u001b[1;31m#H[i,j] += (2.718281828459045)**(-1*normsquare(np.append(temp9Pos*X[int(temp9Pos*temp9)-1,:],temp9Pos),np.append(temp11Pos*X[int(temp11Pos*temp11)-1,:],temp11Pos))/(2*sigma**2))\u001b[0m\u001b[1;33m\u001b[0m\u001b[1;33m\u001b[0m\u001b[1;33m\u001b[0m\u001b[0m\n",
      "\u001b[1;32m~\\AppData\\Roaming\\Python\\Python37\\site-packages\\numpy\\lib\\function_base.py\u001b[0m in \u001b[0;36mappend\u001b[1;34m(arr, values, axis)\u001b[0m\n\u001b[0;32m   4692\u001b[0m         \u001b[0mvalues\u001b[0m \u001b[1;33m=\u001b[0m \u001b[0mravel\u001b[0m\u001b[1;33m(\u001b[0m\u001b[0mvalues\u001b[0m\u001b[1;33m)\u001b[0m\u001b[1;33m\u001b[0m\u001b[1;33m\u001b[0m\u001b[0m\n\u001b[0;32m   4693\u001b[0m         \u001b[0maxis\u001b[0m \u001b[1;33m=\u001b[0m \u001b[0marr\u001b[0m\u001b[1;33m.\u001b[0m\u001b[0mndim\u001b[0m\u001b[1;33m-\u001b[0m\u001b[1;36m1\u001b[0m\u001b[1;33m\u001b[0m\u001b[1;33m\u001b[0m\u001b[0m\n\u001b[1;32m-> 4694\u001b[1;33m     \u001b[1;32mreturn\u001b[0m \u001b[0mconcatenate\u001b[0m\u001b[1;33m(\u001b[0m\u001b[1;33m(\u001b[0m\u001b[0marr\u001b[0m\u001b[1;33m,\u001b[0m \u001b[0mvalues\u001b[0m\u001b[1;33m)\u001b[0m\u001b[1;33m,\u001b[0m \u001b[0maxis\u001b[0m\u001b[1;33m=\u001b[0m\u001b[0maxis\u001b[0m\u001b[1;33m)\u001b[0m\u001b[1;33m\u001b[0m\u001b[1;33m\u001b[0m\u001b[0m\n\u001b[0m\u001b[0;32m   4695\u001b[0m \u001b[1;33m\u001b[0m\u001b[0m\n\u001b[0;32m   4696\u001b[0m \u001b[1;33m\u001b[0m\u001b[0m\n",
      "\u001b[1;31mKeyboardInterrupt\u001b[0m: "
     ]
    }
   ],
   "source": [
    "from sklearn.datasets import load_digits\n",
    "data1 = load_digits()\n",
    "Givendata = dimensionality_reduction(data1['data'],data1['target'],save=False)\n",
    "ran = np.random.rand(len(Givendata)) < 0.8\n",
    "train_X_data = Givendata[ran]\n",
    "train_Y_data = data1['target'][ran]\n",
    "val_X_data = Givendata[~ran]\n",
    "val_Y_data = data1['target'][~ran]\n",
    "kernel = 'rbf'\n",
    "degree = 4\n",
    "sigma = 0.4\n",
    "C = 10\n",
    "a1 = SMCSVM()\n",
    "#a1.fit()\n",
    "start_time = time.time()\n",
    "a1.fit(train_X_data,train_Y_data,C,kernel,degree,sigma)\n",
    "print('\\n Time taken for training in seconds: ', time.time()-start_time )\n",
    "predictedLabels = a1.predict(train_X_data)\n",
    "conMatrix = pd.crosstab(np.array(predictedLabels).ravel(),train_Y_data.reshape(-1,1).ravel())\n",
    "conMatrix"
   ]
  },
  {
   "cell_type": "code",
   "execution_count": 102,
   "metadata": {},
   "outputs": [],
   "source": [
    "def plot_decision_regions(classifier,train_X_data,train_Y_data,resolution=1):\n",
    "   # setup marker generator and color map\n",
    "   markers = ('s', 'x', 'o', '^', 'v')\n",
    "   colors = ('red', 'blue', 'lightgreen', 'gray', 'cyan')\n",
    "   X = train_X_data\n",
    "   y = train_Y_data\n",
    "   cmap = ListedColormap(colors[:len(np.unique(train_Y_data))])\n",
    "   # plot the decision surface\n",
    "   MinFirstAttr, MaxFirstAttr = train_X_data[:, 0].min() - 1 , train_X_data[:, 0].max() + 1\n",
    "   MinSecAttr, MaxSecAttr = train_X_data[:, 1].min() - 1, train_X_data[:, 1].max() + 1\n",
    "   MeshGridPtsFirstAttr, MeshGridPtsSecAttr = np.meshgrid(np.arange(x1_min, x1_max, resolution),np.arange(x2_min, x2_max, resolution))\n",
    "   Z = classifier.predict(np.array([MeshGridPtsFirstAttr.ravel(), MeshGridPtsSecAttr.ravel()]).T)\n",
    "   Z = np.array(Z) \n",
    "   Z = Z.reshape(MeshGridPtsFirstAttr.shape)\n",
    "   plt.contourf(MeshGridPtsFirstAttr, MeshGridPtsSecAttr, Z, alpha=0.1, cmap=cmap)\n",
    "   plt.xlim(MeshGridPtsFirstAttr.min(), MeshGridPtsFirstAttr.max())\n",
    "   plt.ylim(MeshGridPtsSecAttr.min(), MeshGridPtsSecAttr.max())\n",
    "   for index, cl in enumerate(np.unique(train_Y_data)):\n",
    "      plt.scatter(x=train_X_data[train_Y_data == cl, 0], y=train_X_data[train_Y_data == cl, 1],alpha=0.8, c=cmap(idx),marker=markers[index], label=cl)\n",
    "   plt.legend(loc='upper left')\n",
    "   plt.show()"
   ]
  },
  {
   "cell_type": "code",
   "execution_count": 13,
   "metadata": {},
   "outputs": [
    {
     "name": "stdout",
     "output_type": "stream",
     "text": [
      "\n",
      " Calculating prediction values\n"
     ]
    },
    {
     "data": {
      "application/vnd.jupyter.widget-view+json": {
       "model_id": "1c79fe396af6465880ee722a215fac5b",
       "version_major": 2,
       "version_minor": 0
      },
      "text/plain": [
       "HBox(children=(IntProgress(value=0, max=60552), HTML(value='')))"
      ]
     },
     "metadata": {},
     "output_type": "display_data"
    },
    {
     "ename": "ValueError",
     "evalue": "operands could not be broadcast together with shapes (30,) (2,) ",
     "output_type": "error",
     "traceback": [
      "\u001b[1;31m---------------------------------------------------------------------------\u001b[0m",
      "\u001b[1;31mValueError\u001b[0m                                Traceback (most recent call last)",
      "\u001b[1;32m<ipython-input-13-e0da635dcb8b>\u001b[0m in \u001b[0;36m<module>\u001b[1;34m\u001b[0m\n\u001b[0;32m      1\u001b[0m \u001b[0mclassifier\u001b[0m \u001b[1;33m=\u001b[0m \u001b[0ma1\u001b[0m\u001b[1;33m\u001b[0m\u001b[1;33m\u001b[0m\u001b[0m\n\u001b[1;32m----> 2\u001b[1;33m \u001b[0mplot_decision_regions\u001b[0m\u001b[1;33m(\u001b[0m\u001b[0mclassifier\u001b[0m\u001b[1;33m,\u001b[0m\u001b[0mtrain_X_data\u001b[0m\u001b[1;33m,\u001b[0m\u001b[0mtrain_Y_data\u001b[0m\u001b[1;33m,\u001b[0m\u001b[0mresolution\u001b[0m\u001b[1;33m=\u001b[0m\u001b[1;36m0.1\u001b[0m\u001b[1;33m)\u001b[0m\u001b[1;33m\u001b[0m\u001b[1;33m\u001b[0m\u001b[0m\n\u001b[0m",
      "\u001b[1;32m<ipython-input-10-e209572a585e>\u001b[0m in \u001b[0;36mplot_decision_regions\u001b[1;34m(classifier, train_X_data, train_Y_data, resolution)\u001b[0m\n\u001b[0;32m     13\u001b[0m     \u001b[1;31m#alphas2,fullXmatrix,IntermXmatrix = Build_SVM_Classifier1(train_X_data,train_Y_data,C,kernel,degree,sigma)\u001b[0m\u001b[1;33m\u001b[0m\u001b[1;33m\u001b[0m\u001b[1;33m\u001b[0m\u001b[0m\n\u001b[0;32m     14\u001b[0m    \u001b[1;31m#Z = predict(train_X_data,np.array([xx1.ravel(), xx2.ravel()]).T,IntermXmatrix,num_classes,alphas2,fullXmatrix,kernel,degree,sigma)\u001b[0m\u001b[1;33m\u001b[0m\u001b[1;33m\u001b[0m\u001b[1;33m\u001b[0m\u001b[0m\n\u001b[1;32m---> 15\u001b[1;33m    \u001b[0mZ\u001b[0m \u001b[1;33m=\u001b[0m \u001b[0mclassifier\u001b[0m\u001b[1;33m.\u001b[0m\u001b[0mpredict\u001b[0m\u001b[1;33m(\u001b[0m\u001b[0mnp\u001b[0m\u001b[1;33m.\u001b[0m\u001b[0marray\u001b[0m\u001b[1;33m(\u001b[0m\u001b[1;33m[\u001b[0m\u001b[0mxx1\u001b[0m\u001b[1;33m.\u001b[0m\u001b[0mravel\u001b[0m\u001b[1;33m(\u001b[0m\u001b[1;33m)\u001b[0m\u001b[1;33m,\u001b[0m \u001b[0mxx2\u001b[0m\u001b[1;33m.\u001b[0m\u001b[0mravel\u001b[0m\u001b[1;33m(\u001b[0m\u001b[1;33m)\u001b[0m\u001b[1;33m]\u001b[0m\u001b[1;33m)\u001b[0m\u001b[1;33m.\u001b[0m\u001b[0mT\u001b[0m\u001b[1;33m)\u001b[0m\u001b[1;33m\u001b[0m\u001b[1;33m\u001b[0m\u001b[0m\n\u001b[0m\u001b[0;32m     16\u001b[0m    \u001b[1;31m#Z = classifier.predict(np.array([xx1.ravel(), xx2.ravel()]).T)\u001b[0m\u001b[1;33m\u001b[0m\u001b[1;33m\u001b[0m\u001b[1;33m\u001b[0m\u001b[0m\n\u001b[0;32m     17\u001b[0m    \u001b[0mZ\u001b[0m \u001b[1;33m=\u001b[0m \u001b[0mnp\u001b[0m\u001b[1;33m.\u001b[0m\u001b[0marray\u001b[0m\u001b[1;33m(\u001b[0m\u001b[0mZ\u001b[0m\u001b[1;33m)\u001b[0m\u001b[1;33m\u001b[0m\u001b[1;33m\u001b[0m\u001b[0m\n",
      "\u001b[1;32m<ipython-input-3-dfbd93826e3b>\u001b[0m in \u001b[0;36mpredict\u001b[1;34m(self, val_X_data)\u001b[0m\n\u001b[0;32m    117\u001b[0m                 \u001b[1;31m#for j in range(0,num_classes):\u001b[0m\u001b[1;33m\u001b[0m\u001b[1;33m\u001b[0m\u001b[1;33m\u001b[0m\u001b[0m\n\u001b[0;32m    118\u001b[0m                     \u001b[1;31m#tempMatrix1[j*(val_X_data.shape[1]+1):(j+1)*(val_X_data.shape[1]+1),j] = np.append(val_X_data[i,:],1.0)\u001b[0m\u001b[1;33m\u001b[0m\u001b[1;33m\u001b[0m\u001b[1;33m\u001b[0m\u001b[0m\n\u001b[1;32m--> 119\u001b[1;33m                 \u001b[0mscoresForEachLabel\u001b[0m \u001b[1;33m=\u001b[0m \u001b[1;33m(\u001b[0m\u001b[0malphas2\u001b[0m\u001b[1;33m.\u001b[0m\u001b[0mT\u001b[0m\u001b[1;33m)\u001b[0m\u001b[1;33m@\u001b[0m\u001b[1;33m(\u001b[0m\u001b[0mself\u001b[0m\u001b[1;33m.\u001b[0m\u001b[0mgetKernelizedProductforPrediction\u001b[0m\u001b[1;33m(\u001b[0m\u001b[0mtrain_X_data\u001b[0m\u001b[1;33m,\u001b[0m\u001b[0mval_X_data\u001b[0m\u001b[1;33m,\u001b[0m\u001b[0mIntermXmatrix\u001b[0m\u001b[1;33m,\u001b[0m\u001b[0mi\u001b[0m\u001b[1;33m,\u001b[0m\u001b[0mnum_classes\u001b[0m\u001b[1;33m,\u001b[0m\u001b[0mkernel\u001b[0m\u001b[1;33m,\u001b[0m\u001b[0msigma\u001b[0m\u001b[1;33m,\u001b[0m\u001b[0mdegree\u001b[0m\u001b[1;33m)\u001b[0m\u001b[1;33m)\u001b[0m\u001b[1;33m\u001b[0m\u001b[1;33m\u001b[0m\u001b[0m\n\u001b[0m\u001b[0;32m    120\u001b[0m                 \u001b[0mmaxScoreLabel\u001b[0m \u001b[1;33m=\u001b[0m \u001b[0mnp\u001b[0m\u001b[1;33m.\u001b[0m\u001b[0margmax\u001b[0m\u001b[1;33m(\u001b[0m\u001b[0mscoresForEachLabel\u001b[0m\u001b[1;33m)\u001b[0m\u001b[1;33m\u001b[0m\u001b[1;33m\u001b[0m\u001b[0m\n\u001b[0;32m    121\u001b[0m                 \u001b[0mpredictedLabelVector\u001b[0m\u001b[1;33m.\u001b[0m\u001b[0mappend\u001b[0m\u001b[1;33m(\u001b[0m\u001b[0mmaxScoreLabel\u001b[0m\u001b[1;33m)\u001b[0m\u001b[1;33m\u001b[0m\u001b[1;33m\u001b[0m\u001b[0m\n",
      "\u001b[1;32m<ipython-input-3-dfbd93826e3b>\u001b[0m in \u001b[0;36mgetKernelizedProductforPrediction\u001b[1;34m(self, X_data, val_X_data, IntermXmatrix, currentValIndex, num_classes, kernel, sigma, degree)\u001b[0m\n\u001b[0;32m    161\u001b[0m                                 \u001b[0mcount1\u001b[0m\u001b[1;33m+=\u001b[0m\u001b[1;36m1\u001b[0m\u001b[1;33m\u001b[0m\u001b[1;33m\u001b[0m\u001b[0m\n\u001b[0;32m    162\u001b[0m                                 \u001b[1;32mif\u001b[0m\u001b[1;33m(\u001b[0m\u001b[0mtemp4\u001b[0m\u001b[1;33m>\u001b[0m\u001b[1;36m0\u001b[0m\u001b[1;33m)\u001b[0m\u001b[1;33m:\u001b[0m\u001b[1;33m\u001b[0m\u001b[1;33m\u001b[0m\u001b[0m\n\u001b[1;32m--> 163\u001b[1;33m                                     \u001b[0mH\u001b[0m\u001b[1;33m[\u001b[0m\u001b[0mi\u001b[0m\u001b[1;33m,\u001b[0m\u001b[0mj\u001b[0m\u001b[1;33m]\u001b[0m \u001b[1;33m+=\u001b[0m \u001b[0mnp\u001b[0m\u001b[1;33m.\u001b[0m\u001b[0mexp\u001b[0m\u001b[1;33m(\u001b[0m\u001b[1;33m-\u001b[0m\u001b[1;36m1\u001b[0m\u001b[1;33m*\u001b[0m\u001b[1;33m(\u001b[0m\u001b[0mnp\u001b[0m\u001b[1;33m.\u001b[0m\u001b[0mlinalg\u001b[0m\u001b[1;33m.\u001b[0m\u001b[0mnorm\u001b[0m\u001b[1;33m(\u001b[0m\u001b[0mX\u001b[0m\u001b[1;33m[\u001b[0m\u001b[0mtemp3\u001b[0m\u001b[1;33m-\u001b[0m\u001b[1;36m1\u001b[0m\u001b[1;33m,\u001b[0m\u001b[1;33m:\u001b[0m\u001b[1;33m]\u001b[0m\u001b[1;33m-\u001b[0m\u001b[0mval_X_data\u001b[0m\u001b[1;33m[\u001b[0m\u001b[0mtemp4\u001b[0m\u001b[1;33m-\u001b[0m\u001b[1;36m1\u001b[0m\u001b[1;33m,\u001b[0m\u001b[1;33m:\u001b[0m\u001b[1;33m]\u001b[0m\u001b[1;33m)\u001b[0m\u001b[1;33m**\u001b[0m\u001b[1;36m2\u001b[0m\u001b[1;33m)\u001b[0m\u001b[1;33m/\u001b[0m\u001b[1;33m(\u001b[0m\u001b[1;36m2\u001b[0m\u001b[1;33m*\u001b[0m\u001b[0msigma\u001b[0m\u001b[1;33m**\u001b[0m\u001b[1;36m2\u001b[0m\u001b[1;33m)\u001b[0m\u001b[1;33m)\u001b[0m\u001b[1;33m\u001b[0m\u001b[1;33m\u001b[0m\u001b[0m\n\u001b[0m\u001b[0;32m    164\u001b[0m                             \u001b[1;32melif\u001b[0m\u001b[1;33m(\u001b[0m\u001b[0mtemp3\u001b[0m\u001b[1;33m<\u001b[0m\u001b[1;36m0\u001b[0m\u001b[1;33m)\u001b[0m\u001b[1;33m:\u001b[0m\u001b[1;33m\u001b[0m\u001b[1;33m\u001b[0m\u001b[0m\n\u001b[0;32m    165\u001b[0m                                 \u001b[0mcount1\u001b[0m\u001b[1;33m+=\u001b[0m\u001b[1;36m1\u001b[0m\u001b[1;33m\u001b[0m\u001b[1;33m\u001b[0m\u001b[0m\n",
      "\u001b[1;31mValueError\u001b[0m: operands could not be broadcast together with shapes (30,) (2,) "
     ]
    }
   ],
   "source": [
    "classifier = a1\n",
    "plot_decision_regions(classifier,train_X_data,train_Y_data,resolution=0.1)"
   ]
  },
  {
   "cell_type": "code",
   "execution_count": null,
   "metadata": {},
   "outputs": [],
   "source": [
    "def performCrossValidation(X1,Y1,num_folds,classifier,kernel='rbf',degree=1,sigma=1.0):\n",
    "    C = 10\n",
    "    fullXmatrix1 = X1\n",
    "    fullYvector1 = Y1\n",
    "    from sklearn.model_selection import KFold\n",
    "    kf = KFold(n_splits=num_folds)\n",
    "    kf.get_n_splits(fullXmatrix1)\n",
    "    consideredSigmaValues = [0.1,0.3,0.4,0.5,0.6,0.7,1.0]\n",
    "    consideredCValues = [0,50,100]\n",
    "    consideredKernelValues = ['linear','polynomial','rbf']\n",
    "    fig, ax = plt.subplots(figsize=(15,10))\n",
    "    for kernel in consideredKernelValues:\n",
    "        for C in consideredCValues:\n",
    "            crossValAvgErrorForEachSigma = []\n",
    "            crossValVarOfErrorForEachSigma = []\n",
    "            \n",
    "            for sigma in consideredSigmaValues:#, 1e-4 ,1e-3, 1e-2, 0.1, 1, 10, 100 ,1000]:\n",
    "                ValErrorForEachFold = []\n",
    "                fold = 0\n",
    "                for train_index, test_index in kf.split(fullXmatrix1):\n",
    "                    print('fold is '+str(fold))\n",
    "                    fold += 1\n",
    "                    #print(\"TRAIN:\", train_index, \"TEST:\", test_index)\n",
    "                    X_train, X_test = fullXmatrix1[train_index], fullXmatrix1[test_index]\n",
    "                    y_train, y_test = fullYvector1[train_index], fullYvector1[test_index]\n",
    "                    trainXmatrix = X_train\n",
    "                    ValXmatrix = X_test\n",
    "                    trainYvector = y_train\n",
    "                    valYvector = y_test\n",
    "                    numOfSamples,numOfdimPlusOne = trainXmatrix.shape\n",
    "                    classifier.fit(X_train, y_train,C,kernel,degree,sigma)\n",
    "                    #classifier.fit(X_train, y_train,lamda,kernel,degree,sigma)\n",
    "                    #classifier.fit(X_train, y_train,C,lamda,degree,sigma)\n",
    "                    predictedLabels = classifier.predict(X_test)\n",
    "                    numOfCorrectlyPredictedLabels = 0\n",
    "                    for index in range(0,len(valYvector)):\n",
    "                        if(valYvector[index] == predictedLabels[index]):\n",
    "                            numOfCorrectlyPredictedLabels += 1\n",
    "                    accuracy = numOfCorrectlyPredictedLabels/len(valYvector)\n",
    "                    error = 1- accuracy\n",
    "                    ValErrorForEachFold.append(error)\n",
    "                crossValAvgErrorForEachSigma.append(np.mean(ValErrorForEachFold))\n",
    "                crossValVarOfErrorForEachSigma.append(np.std(ValErrorForEachFold))\n",
    "            \n",
    "            #for i in numOfdimPlusOne:#[:-1]\n",
    "            #for i in lamdavalues:\n",
    "            #ax.plot(np.arange(0.8,0.91,0.01),crossValAvgErrorForEachLamda, label= 'Bias Estimate')\n",
    "            ax.plot(consideredSigmaValues,crossValAvgErrorForEachSigma, label= 'Bias Estimate for Kernel= '+str(kernel)+'C='+str(C))\n",
    "            ax.plot(consideredSigmaValues,crossValVarOfErrorForEachSigma, label= 'Variance Estimate for Kernel= '+str(kernel)+'C='+str(C))\n",
    "            if((len(consideredKernelValues)==1) and (len(consideredCValues)==1) and (len(consideredSigmaValues)==1)):\n",
    "                print('cross validation error estimate is '+str(crossValAvgErrorForEachSigma))\n",
    "            ax.legend(loc=0) # upper left corner\n",
    "            ax.set_xlabel('Sigma')\n",
    "            ax.set_ylabel('values')\n",
    "            ax.set_title('(using cross validation) Bias & Variance Estimate for different hyperparameter values');\n",
    "    plt.show()"
   ]
  },
  {
   "cell_type": "code",
   "execution_count": 30,
   "metadata": {},
   "outputs": [
    {
     "data": {
      "text/plain": [
       "8"
      ]
     },
     "execution_count": 30,
     "metadata": {},
     "output_type": "execute_result"
    }
   ],
   "source": [
    "x = np.array([3, 0, 0, 5, 8])\n",
    "x\n",
    "t = np.nonzero(x)\n",
    "x[t][2]"
   ]
  },
  {
   "cell_type": "code",
   "execution_count": 32,
   "metadata": {},
   "outputs": [
    {
     "data": {
      "text/plain": [
       "array([5, 6, 0])"
      ]
     },
     "execution_count": 32,
     "metadata": {},
     "output_type": "execute_result"
    }
   ],
   "source": [
    "x = np.array([[3, 0, 0], [0, 4, 0], [5, 6, 0]])\n",
    "x[2,:]"
   ]
  }
 ],
 "metadata": {
  "kernelspec": {
   "display_name": "Python 3",
   "language": "python",
   "name": "python3"
  },
  "language_info": {
   "codemirror_mode": {
    "name": "ipython",
    "version": 3
   },
   "file_extension": ".py",
   "mimetype": "text/x-python",
   "name": "python",
   "nbconvert_exporter": "python",
   "pygments_lexer": "ipython3",
   "version": "3.7.1"
  }
 },
 "nbformat": 4,
 "nbformat_minor": 2
}
