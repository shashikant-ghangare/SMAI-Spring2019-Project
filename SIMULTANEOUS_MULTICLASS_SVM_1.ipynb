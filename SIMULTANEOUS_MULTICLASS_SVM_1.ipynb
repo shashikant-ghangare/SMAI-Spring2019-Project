{
 "cells": [
  {
   "cell_type": "code",
   "execution_count": 13,
   "metadata": {},
   "outputs": [],
   "source": [
    "import pandas as pd\n",
    "import numpy as np\n",
    "from tqdm import tqdm \n",
    "from numpy import dot, array\n",
    "import scipy\n",
    "from scipy import sparse\n",
    "import matplotlib.pyplot as plt\n",
    "from matplotlib.colors import ListedColormap"
   ]
  },
  {
   "cell_type": "code",
   "execution_count": 4,
   "metadata": {},
   "outputs": [],
   "source": [
    "def getKernelizedProductforPrediction(X_data,val_X_data,IntermXmatrix,currentValIndex,num_classes,kernel,sigma):\n",
    "    X = X_data\n",
    "    m = (X_data.shape[0]*(num_classes-1))\n",
    "    H = np.zeros((m,num_classes))    \n",
    "    matrix2 = (currentValIndex+1)*np.eye(num_classes)\n",
    "               \n",
    "    if(kernel == 'rbf'): \n",
    "        for i in (range(0,m)):\n",
    "            for j in range(0,num_classes):\n",
    "                count1 = 0\n",
    "                for k in range(0,num_classes):\n",
    "                    if(count1==2):\n",
    "                        break\n",
    "                    else:\n",
    "                        temp3 = int(IntermXmatrix[i,k])\n",
    "                        temp4 = int(matrix2[k,j])\n",
    "                        if(temp3>0):\n",
    "                            count1+=1\n",
    "                            if(temp4>0):                             \n",
    "                                H[i,j] += np.exp(-1*(np.linalg.norm(X[temp3-1,:]-val_X_data[temp4-1,:]))/(2*sigma**2))                        \n",
    "                        elif(temp3<0):\n",
    "                            count1+=1\n",
    "                            if(temp4>0):\n",
    "                                H[i,j] += np.exp(-1*(np.linalg.norm(np.append(val_X_data[temp4-1,:],1.0)-np.append(-1*X[-temp3-1,:],-1.0)))/(2*sigma**2))                    \n",
    "                                                           \n",
    "    return H      "
   ]
  },
  {
   "cell_type": "code",
   "execution_count": 5,
   "metadata": {},
   "outputs": [],
   "source": [
    "def getKernelizedProduct(X_data,Y_label,kernel,sigma):\n",
    "    X = X_data\n",
    "    trainLabelVector = Y_label\n",
    "    num_classes = len(np.unique(Y_label))\n",
    "    IntermXmatrix = np.zeros(((X_data.shape[0]*(num_classes-1)),num_classes))\n",
    "    count6 = 0\n",
    "    for i in tqdm(range(0,X.shape[0])):\n",
    "        for p in range(0,num_classes):\n",
    "            if(trainLabelVector[i]!=p):   \n",
    "                for j in range(0,num_classes):\n",
    "                    if(j==trainLabelVector[i]):\n",
    "                        IntermXmatrix[count6,j] = i+1\n",
    "                    elif(j==p):\n",
    "                        IntermXmatrix[count6,j] = -(i+1)\n",
    "                count6 += 1\n",
    "                \n",
    "    matrix2 = IntermXmatrix.T\n",
    "    M2 = scipy.sparse.coo_matrix(IntermXmatrix)\n",
    "    M3 = scipy.sparse.coo_matrix(IntermXmatrix.T)\n",
    "    m = (X_data.shape[0]*(num_classes-1))\n",
    "    H = np.zeros((m,m)) \n",
    "    \n",
    "    if(kernel == 'rbf'):\n",
    "        for i in tqdm(range(0,m)):\n",
    "            for j in range(0,i+1):\n",
    "                count1 = 0\n",
    "                #count2 = 0\n",
    "                for k in range(0,IntermXmatrix.shape[1]):\n",
    "                    if(count1==2):\n",
    "                        break\n",
    "                    else:\n",
    "                        temp3 = int(IntermXmatrix[i,k])\n",
    "                        temp4 = int(matrix2[k,j])\n",
    "                        #print(temp3,temp4)\n",
    "                        if(temp3>0):\n",
    "                            count1+=1\n",
    "                            if(temp4>0):                             \n",
    "                                H[i,j] += np.exp(-1*(np.linalg.norm(X[temp3-1,:]-X[temp4-1,:]))/(2*sigma**2))\n",
    "                            elif(temp4<0):\n",
    "                                H[i,j] += np.exp(-1*(np.linalg.norm(np.append(X[temp3-1,:],1.0)-np.append(-1*X[-temp4-1,:],-1.0)))/(2*sigma**2))\n",
    "                        elif(temp3<0):\n",
    "                            count1+=1\n",
    "                            if(temp4>0):\n",
    "                                H[i,j] += np.exp(-1*(np.linalg.norm(np.append(X[temp4-1,:],1.0)-np.append(-1*X[-temp3-1,:],-1.0)))/(2*sigma**2))                    \n",
    "                            elif(temp4<0):\n",
    "                                H[i,j] += np.exp(-1*(np.linalg.norm(-1*X[-temp3-1,:]+X[-temp4-1,:]))/(2*sigma**2))\n",
    "\n",
    "    for i in tqdm(range(0,m)):\n",
    "        for j in range(0,i+1):\n",
    "            if(j>i):\n",
    "                H[i,j]=H[j,i]                 \n",
    "    #print(H.shape)        \n",
    "    \n",
    "    return H,IntermXmatrix"
   ]
  },
  {
   "cell_type": "code",
   "execution_count": 6,
   "metadata": {},
   "outputs": [],
   "source": [
    "def Build_SVM_Classifier1(X_data,Y_label,C=10,kernel = 'linear',degree = 2,sigma = 0.25):      \n",
    "    X = X_data\n",
    "    trainLabelVector = Y_label\n",
    "    #fullXmatrix =[]\n",
    "    num_classes = len(np.unique(Y_label))\n",
    "    print(trainLabelVector.shape)\n",
    "    \n",
    "    fullXmatrix = np.zeros(((X_data.shape[0]*(num_classes-1)),num_classes*((X_data.shape[1])+1)))\n",
    "    \n",
    "    #for i in tqdm(range(0,(X_data.shape[0]*(num_class-1)))):\n",
    "    \n",
    "    count5 = 0\n",
    "    for i in tqdm(range(0,X.shape[0])):\n",
    "        for p in range(0,num_classes):\n",
    "            if(trainLabelVector[i]!=p):   \n",
    "                for j in range(0,num_classes):\n",
    "                    if(j==trainLabelVector[i]):\n",
    "                        fullXmatrix[count5,(j*(X_data.shape[1]+1)):((j+1)*(X_data.shape[1]+1))-1] = X[i,:]\n",
    "                        fullXmatrix[count5,((j+1)*(X_data.shape[1]+1))-1] = 1.0\n",
    "                    elif(j==p):\n",
    "                        fullXmatrix[count5,(j*(X_data.shape[1]+1)):((j+1)*(X_data.shape[1]+1))-1] = -1*X[i,:]\n",
    "                        fullXmatrix[count5,((j+1)*(X_data.shape[1]+1))-1] = -1.0\n",
    "                count5 += 1\n",
    "                #print(count5)\n",
    "    print(fullXmatrix.shape)\n",
    "    m = fullXmatrix.shape[0]\n",
    "    M1 = sparse.csr_matrix(fullXmatrix) \n",
    "    IntermXmatrix = np.zeros(((X_data.shape[0]*(num_classes-1)),num_classes))\n",
    "    if(kernel=='polynomial'):   \n",
    "        H = sparse.csr_matrix.dot(M1,M1.T) \n",
    "        H = (1+H.todense())**degree   \n",
    "    elif(kernel=='linear'):\n",
    "        H = sparse.csr_matrix.dot(M1,M1.T)\n",
    "    else:\n",
    "        H,IntermXmatrix = getKernelizedProduct(X_data,Y_label,kernel,sigma)        \n",
    "        \n",
    "    from cvxopt import matrix as cvxopt_matrix\n",
    "    from cvxopt import solvers as cvxopt_solvers\n",
    "    if(kernel=='linear'):\n",
    "        P = cvxopt_matrix(H.todense())\n",
    "    else:\n",
    "        P = cvxopt_matrix(H)\n",
    "    q = cvxopt_matrix(-1*np.ones((m, 1)))\n",
    "    G = cvxopt_matrix(np.vstack((np.eye(m)*-1,np.eye(m))))\n",
    "    h = cvxopt_matrix(np.hstack((np.zeros(m), np.ones(m) * C)))\n",
    "    opts = {'maxiters' : 30,'solver':'mosek'}\n",
    "    sol = cvxopt_solvers.qp(P, q, G, h ,options = opts)\n",
    "    alphas2 = np.array(sol['x']) \n",
    "    #w = fullXmatrix.T@alphas2\n",
    "    #wForEachLabel = {}\n",
    "    #for i in range(0,num_classes):\n",
    "        #wForEachLabel[i] = np.array_split(w,num_classes)[i]\n",
    "        \n",
    "    return alphas2,fullXmatrix,IntermXmatrix\n",
    "    #return wForEachLabel"
   ]
  },
  {
   "cell_type": "code",
   "execution_count": 14,
   "metadata": {},
   "outputs": [],
   "source": [
    "def plot_decision_regions(X, y,resolution=1, test_idx=None):\n",
    "   # setup marker generator and color map\n",
    "   markers = ('s', 'x', 'o', '^', 'v')\n",
    "   colors = ('red', 'blue', 'lightgreen', 'gray', 'cyan')\n",
    "   cmap = ListedColormap(colors[:len(np.unique(y))])\n",
    "\n",
    "   # plot the decision surface\n",
    "   x1_min, x1_max = X[:, 0].min() - 1, X[:, 0].max() + 1\n",
    "   x2_min, x2_max = X[:, 1].min() - 1, X[:, 1].max() + 1\n",
    "   xx1, xx2 = np.meshgrid(np.arange(x1_min, x1_max, resolution),\n",
    "   np.arange(x2_min, x2_max, resolution))\n",
    "    #alphas2,fullXmatrix,IntermXmatrix = Build_SVM_Classifier1(train_X_data,train_Y_data,C,kernel,degree,sigma)\n",
    "   Z = predict(train_X_data,np.array([xx1.ravel(), xx2.ravel()]).T,IntermXmatrix,num_classes,alphas2,fullXmatrix,kernel,degree,sigma)\n",
    "   #Z = classifier.predict(np.array([xx1.ravel(), xx2.ravel()]).T)\n",
    "   Z = np.array(Z) \n",
    "   Z = Z.reshape(xx1.shape)\n",
    "   plt.contourf(xx1, xx2, Z, alpha=0.4, cmap=cmap)\n",
    "   plt.xlim(xx1.min(), xx1.max())\n",
    "   plt.ylim(xx2.min(), xx2.max())\n",
    "\n",
    "   # plot all samples\n",
    "   X_test, y_test = X[test_idx, :], y[test_idx]\n",
    "   for idx, cl in enumerate(np.unique(y)):\n",
    "      plt.scatter(x=X[y == cl, 0], y=X[y == cl, 1],\n",
    "               alpha=0.8, c=cmap(idx),\n",
    "               marker=markers[idx], label=cl)\n",
    "   # highlight test samples\n",
    "   if test_idx:\n",
    "      X_test, y_test = X[test_idx, :], y[test_idx]\n",
    "      plt.scatter(X_test[:, 0], X_test[:, 1], c='',\n",
    "               alpha=1.0, linewidth=1, marker='o',\n",
    "               s=55, label='test set')"
   ]
  },
  {
   "cell_type": "code",
   "execution_count": 7,
   "metadata": {},
   "outputs": [],
   "source": [
    "def predict(train_X_data,val_X_data,IntermXmatrix,num_classes,alphas2,fullXmatrix,kernel,degree,sigma):\n",
    "    predictedLabelVector = []\n",
    "    if(kernel == 'linear'):\n",
    "        w = fullXmatrix.T@alphas2\n",
    "        wForEachLabel = {}\n",
    "        for i in range(0,num_classes):\n",
    "            wForEachLabel[i] = np.array_split(w,num_classes)[i]\n",
    "        for i in tqdm(range(0,val_X_data.shape[0])):\n",
    "            scoresForEachLabel = []\n",
    "            for j in range(0,len(wForEachLabel)):\n",
    "                score = (wForEachLabel[j].T@np.append(val_X_data[i,:],1.0).reshape(-1,1))\n",
    "                scoresForEachLabel.append(score)\n",
    "            maxScoreLabel = np.argmax(scoresForEachLabel)\n",
    "            predictedLabelVector.append(maxScoreLabel)\n",
    "    elif(kernel == 'polynomial'):\n",
    "        for i in tqdm(range(0,val_X_data.shape[0])):\n",
    "            tempMatrix1 = np.zeros((num_classes*(val_X_data.shape[1]+1),num_classes))\n",
    "            for j in range(0,num_classes):\n",
    "                tempMatrix1[j*(val_X_data.shape[1]+1):(j+1)*(val_X_data.shape[1]+1),j] = np.append(val_X_data[i,:],1.0)\n",
    "            scoresForEachLabel = (alphas2.T)@((1+(fullXmatrix@tempMatrix1))**degree)\n",
    "            maxScoreLabel = np.argmax(scoresForEachLabel)\n",
    "            predictedLabelVector.append(maxScoreLabel)\n",
    "    elif(kernel == 'rbf'):\n",
    "        for i in tqdm(range(0,val_X_data.shape[0])):\n",
    "            #tempMatrix1 = np.zeros((num_classes*(val_X_data.shape[1]+1),num_classes))\n",
    "            #for j in range(0,num_classes):\n",
    "                #tempMatrix1[j*(val_X_data.shape[1]+1):(j+1)*(val_X_data.shape[1]+1),j] = np.append(val_X_data[i,:],1.0)\n",
    "            scoresForEachLabel = (alphas2.T)@((1+(getKernelizedProductforPrediction(train_X_data,val_X_data,IntermXmatrix,i,num_classes,kernel,sigma)))**degree)\n",
    "            maxScoreLabel = np.argmax(scoresForEachLabel)\n",
    "            predictedLabelVector.append(maxScoreLabel)\n",
    "    return predictedLabelVector"
   ]
  },
  {
   "cell_type": "code",
   "execution_count": 9,
   "metadata": {},
   "outputs": [
    {
     "data": {
      "image/png": "[encoded data removed]",
      "text/plain": [
       "<Figure size 432x288 with 1 Axes>"
      ]
     },
     "metadata": {
      "needs_background": "light"
     },
     "output_type": "display_data"
    }
   ],
   "source": [
    "np.random.seed(0)\n",
    "X_xor = np.random.randn(200, 2)\n",
    "y_xor = np.logical_xor(X_xor[:, 0] > 0, X_xor[:, 1] > 0)\n",
    "y_xor = np.where(y_xor, 0, 1)\n",
    "plt.scatter(X_xor[y_xor==0, 0], X_xor[y_xor==0, 1], c='b', marker='x', label='0')\n",
    "plt.scatter(X_xor[y_xor==1, 0], X_xor[y_xor==1, 1], c='r', marker='s', label='1')\n",
    "plt.ylim(-3.0)\n",
    "plt.legend()\n",
    "plt.show()"
   ]
  },
  {
   "cell_type": "code",
   "execution_count": 11,
   "metadata": {},
   "outputs": [],
   "source": [
    "ran = np.random.rand(len(X_xor)) < 0.8\n",
    "train_X_data = X_xor[ran]\n",
    "train_Y_data = y_xor[ran]\n",
    "val_X_data = X_xor[~ran]\n",
    "val_Y_data = y_xor[~ran]\n",
    "num_classes = len(np.unique(train_Y_data))\n",
    "kernel = 'rbf'\n",
    "degree = 1\n",
    "sigma = 0.5\n",
    "C = 100"
   ]
  },
  {
   "cell_type": "code",
   "execution_count": 19,
   "metadata": {},
   "outputs": [
    {
     "name": "stdout",
     "output_type": "stream",
     "text": [
      "(162,)\n"
     ]
    },
    {
     "name": "stderr",
     "output_type": "stream",
     "text": [
      "100%|█████████████████████████████████████| 162/162 [00:00<00:00, 54046.87it/s]\n"
     ]
    },
    {
     "name": "stdout",
     "output_type": "stream",
     "text": [
      "(162, 6)\n"
     ]
    },
    {
     "name": "stderr",
     "output_type": "stream",
     "text": [
      "100%|█████████████████████████████████████| 162/162 [00:00<00:00, 81073.53it/s]\n",
      "100%|███████████████████████████████████████| 162/162 [00:00<00:00, 270.15it/s]\n",
      "100%|████████████████████████████████████| 162/162 [00:00<00:00, 161895.94it/s]\n"
     ]
    },
    {
     "name": "stdout",
     "output_type": "stream",
     "text": [
      "     pcost       dcost       gap    pres   dres\n",
      " 0:  3.6146e+04 -1.3013e+05  2e+05  4e-17  3e-14\n",
      " 1:  6.3059e+03 -9.6449e+03  2e+04  2e-16  4e-14\n",
      " 2:  8.6434e+02 -1.1075e+03  2e+03  2e-16  2e-14\n",
      " 3:  1.0456e+02 -1.7938e+02  3e+02  2e-16  7e-15\n",
      " 4:  5.6347e+00 -3.4024e+01  4e+01  2e-16  2e-15\n",
      " 5: -4.9458e+00 -9.8300e+00  5e+00  2e-16  8e-16\n",
      " 6: -5.5634e+00 -5.9202e+00  4e-01  2e-16  2e-16\n",
      " 7: -5.5876e+00 -5.6332e+00  5e-02  2e-16  2e-16\n",
      " 8: -5.5917e+00 -5.5970e+00  5e-03  2e-16  2e-16\n",
      " 9: -5.5923e+00 -5.5932e+00  9e-04  2e-16  2e-16\n",
      "10: -5.5925e+00 -5.5926e+00  1e-04  2e-16  2e-16\n",
      "11: -5.5925e+00 -5.5925e+00  1e-05  2e-16  2e-16\n",
      "12: -5.5925e+00 -5.5925e+00  6e-07  2e-16  2e-16\n",
      "Optimal solution found.\n"
     ]
    }
   ],
   "source": [
    "alphas2,fullXmatrix,IntermXmatrix = Build_SVM_Classifier1(train_X_data,train_Y_data,C,kernel,degree,sigma)"
   ]
  },
  {
   "cell_type": "code",
   "execution_count": null,
   "metadata": {},
   "outputs": [],
   "source": [
    "#prediction for training data"
   ]
  },
  {
   "cell_type": "code",
   "execution_count": 20,
   "metadata": {},
   "outputs": [
    {
     "name": "stderr",
     "output_type": "stream",
     "text": [
      "100%|███████████████████████████████████████| 162/162 [00:01<00:00, 135.53it/s]\n"
     ]
    },
    {
     "data": {
      "text/html": [
       "<div>\n",
       "<style scoped>\n",
       "    .dataframe tbody tr th:only-of-type {\n",
       "        vertical-align: middle;\n",
       "    }\n",
       "\n",
       "    .dataframe tbody tr th {\n",
       "        vertical-align: top;\n",
       "    }\n",
       "\n",
       "    .dataframe thead th {\n",
       "        text-align: right;\n",
       "    }\n",
       "</style>\n",
       "<table border=\"1\" class=\"dataframe\">\n",
       "  <thead>\n",
       "    <tr style=\"text-align: right;\">\n",
       "      <th>col_0</th>\n",
       "      <th>0</th>\n",
       "      <th>1</th>\n",
       "    </tr>\n",
       "    <tr>\n",
       "      <th>row_0</th>\n",
       "      <th></th>\n",
       "      <th></th>\n",
       "    </tr>\n",
       "  </thead>\n",
       "  <tbody>\n",
       "    <tr>\n",
       "      <th>0</th>\n",
       "      <td>84</td>\n",
       "      <td>0</td>\n",
       "    </tr>\n",
       "    <tr>\n",
       "      <th>1</th>\n",
       "      <td>0</td>\n",
       "      <td>78</td>\n",
       "    </tr>\n",
       "  </tbody>\n",
       "</table>\n",
       "</div>"
      ],
      "text/plain": [
       "col_0   0   1\n",
       "row_0        \n",
       "0      84   0\n",
       "1       0  78"
      ]
     },
     "execution_count": 20,
     "metadata": {},
     "output_type": "execute_result"
    }
   ],
   "source": [
    "predictedLabels = predict(train_X_data,train_X_data,IntermXmatrix,num_classes,alphas2,fullXmatrix,kernel,degree,sigma)\n",
    "conMatrix = pd.crosstab(np.array(predictedLabels).ravel(),train_Y_data.reshape(-1,1).ravel())\n",
    "conMatrix"
   ]
  },
  {
   "cell_type": "code",
   "execution_count": 21,
   "metadata": {},
   "outputs": [
    {
     "name": "stderr",
     "output_type": "stream",
     "text": [
      "100%|█████████████████████████████████████████| 64/64 [00:00<00:00, 130.15it/s]\n",
      "'c' argument looks like a single numeric RGB or RGBA sequence, which should be avoided as value-mapping will have precedence in case its length matches with 'x' & 'y'.  Please use a 2-D array with a single row if you really want to specify the same RGB or RGBA value for all points.\n",
      "'c' argument looks like a single numeric RGB or RGBA sequence, which should be avoided as value-mapping will have precedence in case its length matches with 'x' & 'y'.  Please use a 2-D array with a single row if you really want to specify the same RGB or RGBA value for all points.\n"
     ]
    },
    {
     "data": {
      "image/png": "[encoded data removed]",
      "text/plain": [
       "<Figure size 432x288 with 1 Axes>"
      ]
     },
     "metadata": {
      "needs_background": "light"
     },
     "output_type": "display_data"
    }
   ],
   "source": [
    "plot_decision_regions(train_X_data, train_Y_data, resolution=1)\n",
    "plt.legend(loc='upper left')\n",
    "plt.show()"
   ]
  },
  {
   "cell_type": "code",
   "execution_count": null,
   "metadata": {},
   "outputs": [],
   "source": [
    "#prediction for validation data"
   ]
  },
  {
   "cell_type": "code",
   "execution_count": 22,
   "metadata": {},
   "outputs": [
    {
     "name": "stderr",
     "output_type": "stream",
     "text": [
      "100%|█████████████████████████████████████████| 38/38 [00:00<00:00, 133.40it/s]\n"
     ]
    },
    {
     "data": {
      "text/html": [
       "<div>\n",
       "<style scoped>\n",
       "    .dataframe tbody tr th:only-of-type {\n",
       "        vertical-align: middle;\n",
       "    }\n",
       "\n",
       "    .dataframe tbody tr th {\n",
       "        vertical-align: top;\n",
       "    }\n",
       "\n",
       "    .dataframe thead th {\n",
       "        text-align: right;\n",
       "    }\n",
       "</style>\n",
       "<table border=\"1\" class=\"dataframe\">\n",
       "  <thead>\n",
       "    <tr style=\"text-align: right;\">\n",
       "      <th>col_0</th>\n",
       "      <th>0</th>\n",
       "      <th>1</th>\n",
       "    </tr>\n",
       "    <tr>\n",
       "      <th>row_0</th>\n",
       "      <th></th>\n",
       "      <th></th>\n",
       "    </tr>\n",
       "  </thead>\n",
       "  <tbody>\n",
       "    <tr>\n",
       "      <th>0</th>\n",
       "      <td>15</td>\n",
       "      <td>0</td>\n",
       "    </tr>\n",
       "    <tr>\n",
       "      <th>1</th>\n",
       "      <td>2</td>\n",
       "      <td>21</td>\n",
       "    </tr>\n",
       "  </tbody>\n",
       "</table>\n",
       "</div>"
      ],
      "text/plain": [
       "col_0   0   1\n",
       "row_0        \n",
       "0      15   0\n",
       "1       2  21"
      ]
     },
     "execution_count": 22,
     "metadata": {},
     "output_type": "execute_result"
    }
   ],
   "source": [
    "predictedLabels = predict(train_X_data,val_X_data,IntermXmatrix,num_classes,alphas2,fullXmatrix,kernel,degree,sigma)\n",
    "conMatrix = pd.crosstab(np.array(predictedLabels).ravel(),val_Y_data.reshape(-1,1).ravel())\n",
    "conMatrix"
   ]
  },
  {
   "cell_type": "code",
   "execution_count": 23,
   "metadata": {},
   "outputs": [
    {
     "name": "stderr",
     "output_type": "stream",
     "text": [
      "100%|█████████████████████████████████████████| 42/42 [00:00<00:00, 114.82it/s]\n",
      "'c' argument looks like a single numeric RGB or RGBA sequence, which should be avoided as value-mapping will have precedence in case its length matches with 'x' & 'y'.  Please use a 2-D array with a single row if you really want to specify the same RGB or RGBA value for all points.\n",
      "'c' argument looks like a single numeric RGB or RGBA sequence, which should be avoided as value-mapping will have precedence in case its length matches with 'x' & 'y'.  Please use a 2-D array with a single row if you really want to specify the same RGB or RGBA value for all points.\n"
     ]
    },
    {
     "data": {
      "image/png": "[encoded data removed]",
      "text/plain": [
       "<Figure size 432x288 with 1 Axes>"
      ]
     },
     "metadata": {
      "needs_background": "light"
     },
     "output_type": "display_data"
    }
   ],
   "source": [
    "plot_decision_regions(val_X_data, val_Y_data, resolution=1)\n",
    "plt.legend(loc='upper left')\n",
    "plt.show()"
   ]
  },
  {
   "cell_type": "code",
   "execution_count": null,
   "metadata": {},
   "outputs": [],
   "source": []
  }
 ],
 "metadata": {
  "kernelspec": {
   "display_name": "Python 3",
   "language": "python",
   "name": "python3"
  },
  "language_info": {
   "codemirror_mode": {
    "name": "ipython",
    "version": 3
   },
   "file_extension": ".py",
   "mimetype": "text/x-python",
   "name": "python",
   "nbconvert_exporter": "python",
   "pygments_lexer": "ipython3",
   "version": "3.7.1"
  }
 },
 "nbformat": 4,
 "nbformat_minor": 2
}
